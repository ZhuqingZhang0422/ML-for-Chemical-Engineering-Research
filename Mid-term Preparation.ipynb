{
 "cells": [
  {
   "cell_type": "markdown",
   "metadata": {},
   "source": [
    "# Mid-term exam preparation"
   ]
  },
  {
   "cell_type": "code",
   "execution_count": 52,
   "metadata": {},
   "outputs": [],
   "source": [
    "X = np.array([[1, 1], [1, 2], [2, 2], [2, 3]])\n",
    "m, dim = X.shape\n",
    "y = np.dot(X, np.array([1, 2])) + 3\n",
    "theta = np.array([[1],[2]])"
   ]
  },
  {
   "cell_type": "code",
   "execution_count": 65,
   "metadata": {},
   "outputs": [
    {
     "name": "stdout",
     "output_type": "stream",
     "text": [
      "[3. 1. 2.]\n"
     ]
    }
   ],
   "source": [
    "import numpy as np\n",
    "import pandas as pd\n",
    "m, dim = X.shape\n",
    "alpha = 0.03 \n",
    "ones = np.ones((4,1))\n",
    "X_new = np.hstack((ones,X))\n",
    "ans = np.matmul(np.matmul(np.linalg.inv(np.matmul(X_new.T,X_new)),X_new.T),y)\n",
    "print(ans)"
   ]
  },
  {
   "cell_type": "code",
   "execution_count": 38,
   "metadata": {},
   "outputs": [
    {
     "data": {
      "text/plain": [
       "array([1., 2.])"
      ]
     },
     "execution_count": 38,
     "metadata": {},
     "output_type": "execute_result"
    }
   ],
   "source": [
    "# linear model for regression\n",
    "import numpy as np\n",
    "from sklearn.linear_model import LinearRegression\n",
    "reg = LinearRegression().fit(X, y)\n",
    "reg.score(X, y)\n",
    "reg.coef_"
   ]
  },
  {
   "cell_type": "code",
   "execution_count": 66,
   "metadata": {},
   "outputs": [],
   "source": [
    "# regression model\n",
    "J = 1/m/2*(np.matmul((np.matmul(X,theta)-y).T,(np.matmul(X,theta)-y)))\n",
    "grad = 1/m*np.matmul(X.T,(np.matmul(X,theta)-y))\n",
    "for i in range (5000):\n",
    "     theta = theta - alpha*1/m*np.matmul(X.T,(np.matmul(X,theta)-y))"
   ]
  },
  {
   "cell_type": "code",
   "execution_count": 39,
   "metadata": {},
   "outputs": [
    {
     "name": "stdout",
     "output_type": "stream",
     "text": [
      "current_iteration: 1 theta =  [-3.15199171 -0.40585887  1.81504991]\n",
      "current_iteration: 2 theta =  [-4.26505811 -0.29747087  2.33806757]\n",
      "current_iteration: 3 theta =  [-4.90809867 -0.18354141  2.5979506 ]\n",
      "current_iteration: 4 theta =  [-5.28312052 -0.10788523  2.7307514 ]\n",
      "current_iteration: 5 theta =  [-5.50526622 -0.0643088   2.806734  ]\n",
      "current_iteration: 6 theta =  [-5.63818741 -0.03873452  2.85196033]\n",
      "current_iteration: 7 theta =  [-5.71828372 -0.02345439  2.87915056]\n",
      "current_iteration: 8 theta =  [-5.76678512 -0.01424811  2.89558908]\n",
      "current_iteration: 9 theta =  [-5.79624891 -0.00867314  2.90556462]\n",
      "current_iteration: 10 theta =  [-5.81418413e+00 -5.28625031e-03  2.91163282e+00]\n",
      "current_iteration: 11 theta =  [-5.82511557e+00 -3.22448341e-03  2.91532978e+00]\n",
      "current_iteration: 12 theta =  [-5.83178346e+00 -1.96780673e-03  2.91758424e+00]\n",
      "current_iteration: 13 theta =  [-5.83585268e+00 -1.20125018e-03  2.91895985e+00]\n",
      "current_iteration: 14 theta =  [-5.83833673e+00 -7.33437840e-04  2.91979951e+00]\n",
      "current_iteration: 15 theta =  [-5.83985340e+00 -4.47859074e-04  2.92031214e+00]\n",
      "current_iteration: 16 theta =  [-5.84077953e+00 -2.73494703e-04  2.92062516e+00]\n",
      "current_iteration: 17 theta =  [-5.84134508e+00 -1.67022305e-04  2.92081630e+00]\n",
      "current_iteration: 18 theta =  [-5.84169047e+00 -1.02002551e-04  2.92093303e+00]\n",
      "current_iteration: 19 theta =  [-5.84190140e+00 -6.22951616e-05  2.92100432e+00]\n"
     ]
    }
   ],
   "source": [
    "# Newton's method for solving theta\n",
    "import numpy as np\n",
    "X = np.array([[1,0,3],[1,1,3],[1,0,1],[1,1,1]])\n",
    "theta = np.array([0,-2,1])\n",
    "y = np.array([1,1,0,0]) \n",
    "\n",
    "def sigmoid (z):\n",
    "    #sig = np.zeros(z.shape)\n",
    "    # Your code here\n",
    "    z = np.array(z)\n",
    "    sig = 1/ (1+ np.exp(-z))\n",
    "    # End your code\n",
    "    return sig\n",
    "\n",
    "def grad_loss(theta,X,y,reg):\n",
    "    m,dim = X.shape\n",
    "    grad = np.zeros((dim,))\n",
    "    penal_arr = np.hstack([[0],theta[1:]])\n",
    "    grad = 1/m * np.matmul(X.T,sigmoid(np.matmul(X,theta))-y) + reg/m*penal_arr\n",
    "    return grad\n",
    "    \n",
    "def Hessian (theta,X,reg):\n",
    "    m,dim = X.shape\n",
    "    diag_num = sigmoid(np.matmul(X,theta))*(1-sigmoid(np.matmul(X,theta)))\n",
    "    S = np.diag(list(diag_num.reshape(-1)))\n",
    "    penal = reg * np.diag([1]*theta.shape[0])\n",
    "    H = 1/m * (np.matmul(np.matmul(X.T,S),X) + penal)\n",
    "    return H\n",
    "\n",
    "if __name__ == \"__main__\":\n",
    "    for i in range (1,20):\n",
    "        g = grad_loss(theta,X,y,reg = 0.07)\n",
    "        H = Hessian(theta,X,reg = 0.07)\n",
    "        theta_new = theta - np.matmul(np.linalg.inv(H),g)\n",
    "        theta = theta_new\n",
    "        print (\"current_iteration: %d\" %i, \"theta = \", theta)"
   ]
  },
  {
   "cell_type": "code",
   "execution_count": null,
   "metadata": {},
   "outputs": [],
   "source": []
  }
 ],
 "metadata": {
  "kernelspec": {
   "display_name": "Python 3",
   "language": "python",
   "name": "python3"
  },
  "language_info": {
   "codemirror_mode": {
    "name": "ipython",
    "version": 3
   },
   "file_extension": ".py",
   "mimetype": "text/x-python",
   "name": "python",
   "nbconvert_exporter": "python",
   "pygments_lexer": "ipython3",
   "version": "3.8.5"
  }
 },
 "nbformat": 4,
 "nbformat_minor": 4
}
