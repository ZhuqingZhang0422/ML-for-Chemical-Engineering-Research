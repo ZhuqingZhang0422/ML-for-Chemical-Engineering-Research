{
 "cells": [
  {
   "cell_type": "markdown",
   "metadata": {},
   "source": [
    "# Data Science Challenge"
   ]
  },
  {
   "cell_type": "code",
   "execution_count": null,
   "metadata": {},
   "outputs": [],
   "source": [
    "from google.colab import drive\n",
    "drive.mount('/content/gdrive')"
   ]
  },
  {
   "cell_type": "code",
   "execution_count": null,
   "metadata": {},
   "outputs": [],
   "source": [
    "%cd gdrive/My Drive/Colab/ML-for-Chemical-Engineering-Research"
   ]
  },
  {
   "cell_type": "markdown",
   "metadata": {},
   "source": [
    "## Problem statement\n",
    "Fraud is a problem for any bank. Fraud can take many forms, whether it is someone stealing a single credit card, to large batches of stolen credit card numbers being used on the web, or even a mass compromise of credit card numbers stolen from a merchant via tools like credit card skimming devices. In this notebook, we provide analysis and insights for Fraud action in credit card transactions. For the challenge, we will use credit card transaction data.\n",
    "<br>\n",
    "\n",
    "By following the table of contents, we will find a general description of collected data, detailed illustration and analysis of the dataset, and a predictive model to determine whether a given transaction will be fraudulent or not.\n",
    "\n",
    "### Table of Contents\n",
    "\n",
    "I.    [Programmatically load dataset](#Load)<br>\n",
    "II.   [Plot and general analysis of dataset](#Plot)<br>\n",
    "III.  [Data Wrangling - Duplicate Transactions](#Clean)<br>\n",
    "IV.   [Fraud detection model](#Model)<br>\n",
    "V.   [Reference](#Ref)\n",
    "\n",
    "### Bullet points and logic path\n",
    "**Question 1: Load</font>**\n",
    "<br>`a.` Dataset is downloaded and parsed into **pandas DataFrame** through git\n",
    "<br>`b.` **Shape** of the dataset and **Type**, **Count** of individual features is provided, Features are categories into four groups according to data type \n",
    "<br>`c.` **Num of Null**, **Min**, **Max**, **UniqueValue** and **numerical statistics** of individual features is sumerized\n",
    "<br>`d.` Empty columns **echoBuffer**, **merchantCity**, **merchantState**, **merchantZip**, **posOnPremises**, **recurringAuthInd** are removed\n",
    "\n",
    "**Question 2: Plot</font>**\n",
    "<br>`a.` **Histogram plot** and **box chart** of the processed amounts is provided\n",
    "<br>`b.` **Histogram** of Fraud vs normal transactions are compared\n",
    "<br>`c.` Majority numeric features follows a **asymmetric distribution patterns**, usually **right skew**\n",
    "<br>`d.` **Correlation heat map** of features is provided\n",
    "<br>`e.` **Hypothesis 1:** Fraud transaction are more likely to appear on bigger amount.\n",
    "<br>`f.` **Hypothesis 2:** If cardCVV is not equal to entered CVV, the corresponding transaction is highly possible to be a Fraud.\n",
    "<br>`g.` **Hypothesis 3:** Features are not independent between each other (currentbalance, creditlimit, avaiablemoney)\n",
    "\n",
    "**Question 3: Data Wrangling</font>**\n",
    "<br>`a.`The dataset contains duplicate items other than Reverse transactions and multi-swipe transactions\n",
    "<br>`b.`There are **20303** record of reversal transactions, with total amount of **2821792** dollars\n",
    "<br>`c.`There are **2477** record of multi-swipe transactions, with total amount of **389751** dollars (**repeat transaction with time sequence less then 2mins is treated as multi-swipe**)\n",
    "<br>`d.`Fraud transactions are more common on **REVERSE** transactions \n",
    "<br>`e.`**Time**, **merchantName** features are reshaped before modeling\n",
    "\n",
    "**Question 4: Model</font>**\n",
    "<br>`a.` Models are designed to emphasize more on **Sensitivity**\n",
    "<br>`b.` **Clustering** was tried, but **failed** due to **curse of dimensions**\n",
    "<br>`c.` **Positively skewed distribution** pattern of specific features are emphasized\n",
    "<br>`d.` Simple Logistic Regression Model is built with AUC 0.510732\n",
    "<br>`e.` **Logistic Regression Model** is optimized with **SMOT** technique to deal with **imbalance distribution**\n",
    "<br>\n",
    "<br> **Performance of optimized model:**\n",
    "- Accuracy: 0.98\n",
    "- Precision: 0.13\n",
    "- Recall: 0.071\n",
    "- Average precision-recall score: 0.06\n",
    "- **AUC** : 0.75"
   ]
  },
  {
   "cell_type": "code",
   "execution_count": 2,
   "metadata": {},
   "outputs": [],
   "source": [
    "import pandas as pd\n",
    "import os  \n",
    "import numpy as np\n",
    "from zipfile import ZipFile\n",
    "import matplotlib.pyplot as plt\n",
    "import matplotlib.style as style\n",
    "import math\n",
    "import seaborn as sns"
   ]
  },
  {
   "cell_type": "markdown",
   "metadata": {},
   "source": [
    "### <a class=\"anchor\" id=\"Load\">Part I : Programmatically load dataset</a>"
   ]
  },
  {
   "cell_type": "markdown",
   "metadata": {},
   "source": [
    "### <font size=\"+1\">Question 1: Load</font>\n",
    "`1.` Programmatically download and load into your favorite analytical tool the transactions data. This data, which is in line-delimited JSON format, can be found here\n",
    "<br>\n",
    "`2.` Please describe the structure of the data. Number of records and fields in each record?\n",
    "<br>\n",
    "`3.` Please provide some additional basic summary statistics for each field. Be sure to include a count of null, minimum, maximum, and unique values where appropriate."
   ]
  },
  {
   "cell_type": "markdown",
   "metadata": {},
   "source": [
    "**1.** **Extract transform and load data**"
   ]
  },
  {
   "cell_type": "code",
   "execution_count": 8,
   "metadata": {},
   "outputs": [
    {
     "name": "stdout",
     "output_type": "stream",
     "text": [
      "fatal: destination path 'DS' already exists and is not an empty directory.\n",
      "File Name                                             Modified             Size\n",
      "transactions.txt                               2020-01-07 21:32:42    609937737\n"
     ]
    }
   ],
   "source": [
    "# clone Capital One Challenge repository \n",
    "!git clone https://github.com/CapitalOneRecruiting/DS.git\n",
    "f_name = \"DS/transactions.zip\"\n",
    "# read .zip file and extract all files\n",
    "with ZipFile(f_name, 'r') as zip: \n",
    "    # print contents of the corresponding directory\n",
    "    zip.printdir() \n",
    "    # extract all files in transactions.zip\n",
    "    zip.extractall() \n",
    "# since the dataset provided is in json format, we can change the filename and parse to pandas dataFrame\n",
    "os.rename('transactions.txt','transactions.json')\n",
    "# convert json strings to pandas dataFrame \n",
    "df = pd.read_json ('transactions.json',lines=True)\n",
    "df.to_csv('transaction.csv')"
   ]
  },
  {
   "cell_type": "markdown",
   "metadata": {},
   "source": [
    "### To-do: Shows General view of the data set"
   ]
  },
  {
   "cell_type": "code",
   "execution_count": 9,
   "metadata": {},
   "outputs": [
    {
     "data": {
      "text/html": [
       "<div>\n",
       "<style scoped>\n",
       "    .dataframe tbody tr th:only-of-type {\n",
       "        vertical-align: middle;\n",
       "    }\n",
       "\n",
       "    .dataframe tbody tr th {\n",
       "        vertical-align: top;\n",
       "    }\n",
       "\n",
       "    .dataframe thead th {\n",
       "        text-align: right;\n",
       "    }\n",
       "</style>\n",
       "<table border=\"1\" class=\"dataframe\">\n",
       "  <thead>\n",
       "    <tr style=\"text-align: right;\">\n",
       "      <th></th>\n",
       "      <th>accountNumber</th>\n",
       "      <th>customerId</th>\n",
       "      <th>creditLimit</th>\n",
       "      <th>availableMoney</th>\n",
       "      <th>transactionDateTime</th>\n",
       "      <th>transactionAmount</th>\n",
       "      <th>merchantName</th>\n",
       "      <th>acqCountry</th>\n",
       "      <th>merchantCountryCode</th>\n",
       "      <th>posEntryMode</th>\n",
       "      <th>...</th>\n",
       "      <th>echoBuffer</th>\n",
       "      <th>currentBalance</th>\n",
       "      <th>merchantCity</th>\n",
       "      <th>merchantState</th>\n",
       "      <th>merchantZip</th>\n",
       "      <th>cardPresent</th>\n",
       "      <th>posOnPremises</th>\n",
       "      <th>recurringAuthInd</th>\n",
       "      <th>expirationDateKeyInMatch</th>\n",
       "      <th>isFraud</th>\n",
       "    </tr>\n",
       "  </thead>\n",
       "  <tbody>\n",
       "    <tr>\n",
       "      <th>0</th>\n",
       "      <td>737265056</td>\n",
       "      <td>737265056</td>\n",
       "      <td>5000</td>\n",
       "      <td>5000.0</td>\n",
       "      <td>2016-08-13T14:27:32</td>\n",
       "      <td>98.55</td>\n",
       "      <td>Uber</td>\n",
       "      <td>US</td>\n",
       "      <td>US</td>\n",
       "      <td>02</td>\n",
       "      <td>...</td>\n",
       "      <td></td>\n",
       "      <td>0.0</td>\n",
       "      <td></td>\n",
       "      <td></td>\n",
       "      <td></td>\n",
       "      <td>False</td>\n",
       "      <td></td>\n",
       "      <td></td>\n",
       "      <td>False</td>\n",
       "      <td>False</td>\n",
       "    </tr>\n",
       "    <tr>\n",
       "      <th>1</th>\n",
       "      <td>737265056</td>\n",
       "      <td>737265056</td>\n",
       "      <td>5000</td>\n",
       "      <td>5000.0</td>\n",
       "      <td>2016-10-11T05:05:54</td>\n",
       "      <td>74.51</td>\n",
       "      <td>AMC #191138</td>\n",
       "      <td>US</td>\n",
       "      <td>US</td>\n",
       "      <td>09</td>\n",
       "      <td>...</td>\n",
       "      <td></td>\n",
       "      <td>0.0</td>\n",
       "      <td></td>\n",
       "      <td></td>\n",
       "      <td></td>\n",
       "      <td>True</td>\n",
       "      <td></td>\n",
       "      <td></td>\n",
       "      <td>False</td>\n",
       "      <td>False</td>\n",
       "    </tr>\n",
       "    <tr>\n",
       "      <th>2</th>\n",
       "      <td>737265056</td>\n",
       "      <td>737265056</td>\n",
       "      <td>5000</td>\n",
       "      <td>5000.0</td>\n",
       "      <td>2016-11-08T09:18:39</td>\n",
       "      <td>7.47</td>\n",
       "      <td>Play Store</td>\n",
       "      <td>US</td>\n",
       "      <td>US</td>\n",
       "      <td>09</td>\n",
       "      <td>...</td>\n",
       "      <td></td>\n",
       "      <td>0.0</td>\n",
       "      <td></td>\n",
       "      <td></td>\n",
       "      <td></td>\n",
       "      <td>False</td>\n",
       "      <td></td>\n",
       "      <td></td>\n",
       "      <td>False</td>\n",
       "      <td>False</td>\n",
       "    </tr>\n",
       "    <tr>\n",
       "      <th>3</th>\n",
       "      <td>737265056</td>\n",
       "      <td>737265056</td>\n",
       "      <td>5000</td>\n",
       "      <td>5000.0</td>\n",
       "      <td>2016-12-10T02:14:50</td>\n",
       "      <td>7.47</td>\n",
       "      <td>Play Store</td>\n",
       "      <td>US</td>\n",
       "      <td>US</td>\n",
       "      <td>09</td>\n",
       "      <td>...</td>\n",
       "      <td></td>\n",
       "      <td>0.0</td>\n",
       "      <td></td>\n",
       "      <td></td>\n",
       "      <td></td>\n",
       "      <td>False</td>\n",
       "      <td></td>\n",
       "      <td></td>\n",
       "      <td>False</td>\n",
       "      <td>False</td>\n",
       "    </tr>\n",
       "    <tr>\n",
       "      <th>4</th>\n",
       "      <td>830329091</td>\n",
       "      <td>830329091</td>\n",
       "      <td>5000</td>\n",
       "      <td>5000.0</td>\n",
       "      <td>2016-03-24T21:04:46</td>\n",
       "      <td>71.18</td>\n",
       "      <td>Tim Hortons #947751</td>\n",
       "      <td>US</td>\n",
       "      <td>US</td>\n",
       "      <td>02</td>\n",
       "      <td>...</td>\n",
       "      <td></td>\n",
       "      <td>0.0</td>\n",
       "      <td></td>\n",
       "      <td></td>\n",
       "      <td></td>\n",
       "      <td>True</td>\n",
       "      <td></td>\n",
       "      <td></td>\n",
       "      <td>False</td>\n",
       "      <td>False</td>\n",
       "    </tr>\n",
       "  </tbody>\n",
       "</table>\n",
       "<p>5 rows × 29 columns</p>\n",
       "</div>"
      ],
      "text/plain": [
       "   accountNumber  customerId  creditLimit  availableMoney  \\\n",
       "0      737265056   737265056         5000          5000.0   \n",
       "1      737265056   737265056         5000          5000.0   \n",
       "2      737265056   737265056         5000          5000.0   \n",
       "3      737265056   737265056         5000          5000.0   \n",
       "4      830329091   830329091         5000          5000.0   \n",
       "\n",
       "   transactionDateTime  transactionAmount         merchantName acqCountry  \\\n",
       "0  2016-08-13T14:27:32              98.55                 Uber         US   \n",
       "1  2016-10-11T05:05:54              74.51          AMC #191138         US   \n",
       "2  2016-11-08T09:18:39               7.47           Play Store         US   \n",
       "3  2016-12-10T02:14:50               7.47           Play Store         US   \n",
       "4  2016-03-24T21:04:46              71.18  Tim Hortons #947751         US   \n",
       "\n",
       "  merchantCountryCode posEntryMode  ... echoBuffer currentBalance  \\\n",
       "0                  US           02  ...                       0.0   \n",
       "1                  US           09  ...                       0.0   \n",
       "2                  US           09  ...                       0.0   \n",
       "3                  US           09  ...                       0.0   \n",
       "4                  US           02  ...                       0.0   \n",
       "\n",
       "  merchantCity merchantState merchantZip  cardPresent  posOnPremises  \\\n",
       "0                                               False                  \n",
       "1                                                True                  \n",
       "2                                               False                  \n",
       "3                                               False                  \n",
       "4                                                True                  \n",
       "\n",
       "   recurringAuthInd expirationDateKeyInMatch isFraud  \n",
       "0                                      False   False  \n",
       "1                                      False   False  \n",
       "2                                      False   False  \n",
       "3                                      False   False  \n",
       "4                                      False   False  \n",
       "\n",
       "[5 rows x 29 columns]"
      ]
     },
     "execution_count": 9,
     "metadata": {},
     "output_type": "execute_result"
    }
   ],
   "source": [
    "# show example of the dataset\n",
    "df.head()"
   ]
  },
  {
   "cell_type": "code",
   "execution_count": 10,
   "metadata": {},
   "outputs": [
    {
     "name": "stdout",
     "output_type": "stream",
     "text": [
      "<class 'pandas.core.frame.DataFrame'>\n",
      "RangeIndex: 786363 entries, 0 to 786362\n",
      "Data columns (total 29 columns):\n",
      " #   Column                    Non-Null Count   Dtype  \n",
      "---  ------                    --------------   -----  \n",
      " 0   accountNumber             786363 non-null  int64  \n",
      " 1   customerId                786363 non-null  int64  \n",
      " 2   creditLimit               786363 non-null  int64  \n",
      " 3   availableMoney            786363 non-null  float64\n",
      " 4   transactionDateTime       786363 non-null  object \n",
      " 5   transactionAmount         786363 non-null  float64\n",
      " 6   merchantName              786363 non-null  object \n",
      " 7   acqCountry                786363 non-null  object \n",
      " 8   merchantCountryCode       786363 non-null  object \n",
      " 9   posEntryMode              786363 non-null  object \n",
      " 10  posConditionCode          786363 non-null  object \n",
      " 11  merchantCategoryCode      786363 non-null  object \n",
      " 12  currentExpDate            786363 non-null  object \n",
      " 13  accountOpenDate           786363 non-null  object \n",
      " 14  dateOfLastAddressChange   786363 non-null  object \n",
      " 15  cardCVV                   786363 non-null  int64  \n",
      " 16  enteredCVV                786363 non-null  int64  \n",
      " 17  cardLast4Digits           786363 non-null  int64  \n",
      " 18  transactionType           786363 non-null  object \n",
      " 19  echoBuffer                786363 non-null  object \n",
      " 20  currentBalance            786363 non-null  float64\n",
      " 21  merchantCity              786363 non-null  object \n",
      " 22  merchantState             786363 non-null  object \n",
      " 23  merchantZip               786363 non-null  object \n",
      " 24  cardPresent               786363 non-null  bool   \n",
      " 25  posOnPremises             786363 non-null  object \n",
      " 26  recurringAuthInd          786363 non-null  object \n",
      " 27  expirationDateKeyInMatch  786363 non-null  bool   \n",
      " 28  isFraud                   786363 non-null  bool   \n",
      "dtypes: bool(3), float64(3), int64(6), object(17)\n",
      "memory usage: 158.2+ MB\n"
     ]
    }
   ],
   "source": [
    "# show statistical analysis of the dataset\n",
    "df.info()"
   ]
  },
  {
   "cell_type": "code",
   "execution_count": 12,
   "metadata": {},
   "outputs": [
    {
     "name": "stdout",
     "output_type": "stream",
     "text": [
      "Dataset Dimensions: {786363} x {29}\n"
     ]
    }
   ],
   "source": [
    "# show number of columns and number of rows in the dataset\n",
    "shape = df.shape\n",
    "print(\"Dataset Dimensions: {%d} x {%d}\" %(shape[0],shape[1]))"
   ]
  },
  {
   "cell_type": "markdown",
   "metadata": {},
   "source": [
    "**2.** **Describe the structure of the data**\n",
    "* The shape of the data set is 786363 (row) * 29 (column)\n",
    "* There are 3 boolean variables, 4 numerical features, and 22 object features in the dataset, column **isFraud** works are **label data** in model building\n",
    "* Features could also be categorized into the following 4 class based on datatype and meaning:\n",
    "    - Customer: customerId, accountNumber\n",
    "    - Credit: creditLimit, availableMoney, currentExpDate, accountOpenDate, dateOfLastAddressChange, cardCVV, enteredCVV, cardLast4Digits, currentBalance, cardPresent, expirationDateKeyInMatch\n",
    "    - Mechant: merchantCity, merchantState, merchantZip, merchantName, merchantCountryCode, merchantCategoryCode\n",
    "    - Transaction: transactionDateTime, transactionAmount, transactionType\n",
    "    - Pos: posEntryMode, posConditionCode, posOnPremises\n",
    "* Column echoBuffer, merchantCity, merchantState, merchantZip, posOnPremises, recurringAuthInd are empty columns, thus they **should be removed** for efficiency enhancement while conduct data cleaning"
   ]
  },
  {
   "cell_type": "code",
   "execution_count": 13,
   "metadata": {},
   "outputs": [],
   "source": [
    "# categorize features according to datatype\n",
    "time_col = ['dateOfLastAddressChange', 'currentExpDate', 'accountOpenDate', 'transactionDateTime']\n",
    "int_col = ['cardCVV',  'cardLast4Digits', 'enteredCVV']\n",
    "cat_col = ['customerId', 'accountNumber','merchantCategoryCode', 'posConditionCode', 'posEntryMode', 'transactionType', 'acqCountry', 'merchantCountryCode']\n",
    "str_col = ['merchantName']"
   ]
  },
  {
   "cell_type": "code",
   "execution_count": 14,
   "metadata": {},
   "outputs": [
    {
     "name": "stdout",
     "output_type": "stream",
     "text": [
      "Empty columns: ['echoBuffer', 'merchantCity', 'merchantState', 'merchantZip', 'posOnPremises', 'recurringAuthInd']\n",
      "Partial Missing columns ['acqCountry', 'merchantCountryCode', 'posEntryMode', 'posConditionCode', 'transactionType']\n"
     ]
    }
   ],
   "source": [
    "# fill in empty cells with np.nan \n",
    "shape = df.shape\n",
    "for col in df.columns:\n",
    "    df[col] = df[col].map(lambda x: np.nan if x == \"\" else x)\n",
    "# check for the number of nan in each column\n",
    "df_null_count = df.isnull().sum()\n",
    "empty_col = []\n",
    "partmiss_col = []\n",
    "for col in df_null_count.index:\n",
    "    if df_null_count[col] == shape[0]:\n",
    "        empty_col.append(col)\n",
    "    elif df_null_count[col] != 0:\n",
    "        partmiss_col.append(col)\n",
    "print(\"Empty columns:\",empty_col)\n",
    "print(\"Partial Missing columns\",partmiss_col)"
   ]
  },
  {
   "cell_type": "markdown",
   "metadata": {},
   "source": [
    "**Empty columns** are droped, while **Partial Missing columns** need to be filled"
   ]
  },
  {
   "cell_type": "markdown",
   "metadata": {},
   "source": [
    "**<font size=\"+1\">Handle missing Data**\n",
    "<br>Features with partial missing are classification type of data, thus missing cells can be replaced with nan(string type). Since we already map the missing cells with np.nan, we will just convert them into string type for easier processing"
   ]
  },
  {
   "cell_type": "code",
   "execution_count": 15,
   "metadata": {},
   "outputs": [
    {
     "name": "stdout",
     "output_type": "stream",
     "text": [
      "['acqCountry', 'merchantCountryCode', 'posEntryMode', 'posConditionCode', 'transactionType']\n"
     ]
    }
   ],
   "source": [
    "print(partmiss_col)\n",
    "for col in partmiss_col:\n",
    "    df[col] = df[col].astype(str)"
   ]
  },
  {
   "cell_type": "markdown",
   "metadata": {},
   "source": [
    "**3.** **Additional basic summary for each field**"
   ]
  },
  {
   "cell_type": "code",
   "execution_count": 16,
   "metadata": {},
   "outputs": [],
   "source": [
    "# provide discription of each field, including count of null, minimum, maximum, and unique values\n",
    "from functools import reduce\n",
    "df_null = pd.DataFrame(df_null_count)\n",
    "df_min = pd.DataFrame(df.min())\n",
    "df_max = pd.DataFrame(df.max())\n",
    "df_uni = pd.DataFrame(df.nunique())"
   ]
  },
  {
   "cell_type": "code",
   "execution_count": 17,
   "metadata": {},
   "outputs": [
    {
     "data": {
      "text/html": [
       "<div>\n",
       "<style scoped>\n",
       "    .dataframe tbody tr th:only-of-type {\n",
       "        vertical-align: middle;\n",
       "    }\n",
       "\n",
       "    .dataframe tbody tr th {\n",
       "        vertical-align: top;\n",
       "    }\n",
       "\n",
       "    .dataframe thead th {\n",
       "        text-align: right;\n",
       "    }\n",
       "</style>\n",
       "<table border=\"1\" class=\"dataframe\">\n",
       "  <thead>\n",
       "    <tr style=\"text-align: right;\">\n",
       "      <th></th>\n",
       "      <th>Count of Nulls</th>\n",
       "      <th>Min_value</th>\n",
       "      <th>Max_value</th>\n",
       "      <th>Unique_value</th>\n",
       "    </tr>\n",
       "  </thead>\n",
       "  <tbody>\n",
       "    <tr>\n",
       "      <th>accountNumber</th>\n",
       "      <td>0</td>\n",
       "      <td>100088067</td>\n",
       "      <td>999389635</td>\n",
       "      <td>5000</td>\n",
       "    </tr>\n",
       "    <tr>\n",
       "      <th>customerId</th>\n",
       "      <td>0</td>\n",
       "      <td>100088067</td>\n",
       "      <td>999389635</td>\n",
       "      <td>5000</td>\n",
       "    </tr>\n",
       "    <tr>\n",
       "      <th>creditLimit</th>\n",
       "      <td>0</td>\n",
       "      <td>250</td>\n",
       "      <td>50000</td>\n",
       "      <td>10</td>\n",
       "    </tr>\n",
       "    <tr>\n",
       "      <th>availableMoney</th>\n",
       "      <td>0</td>\n",
       "      <td>-1005.63</td>\n",
       "      <td>50000.0</td>\n",
       "      <td>521915</td>\n",
       "    </tr>\n",
       "    <tr>\n",
       "      <th>transactionDateTime</th>\n",
       "      <td>0</td>\n",
       "      <td>2016-01-01T00:01:02</td>\n",
       "      <td>2016-12-30T23:59:45</td>\n",
       "      <td>776637</td>\n",
       "    </tr>\n",
       "    <tr>\n",
       "      <th>transactionAmount</th>\n",
       "      <td>0</td>\n",
       "      <td>0.0</td>\n",
       "      <td>2011.54</td>\n",
       "      <td>66038</td>\n",
       "    </tr>\n",
       "    <tr>\n",
       "      <th>merchantName</th>\n",
       "      <td>0</td>\n",
       "      <td>1st BBQ</td>\n",
       "      <td>williamssonoma.com</td>\n",
       "      <td>2490</td>\n",
       "    </tr>\n",
       "    <tr>\n",
       "      <th>acqCountry</th>\n",
       "      <td>4562</td>\n",
       "      <td>CAN</td>\n",
       "      <td>nan</td>\n",
       "      <td>5</td>\n",
       "    </tr>\n",
       "    <tr>\n",
       "      <th>merchantCountryCode</th>\n",
       "      <td>724</td>\n",
       "      <td>CAN</td>\n",
       "      <td>nan</td>\n",
       "      <td>5</td>\n",
       "    </tr>\n",
       "    <tr>\n",
       "      <th>posEntryMode</th>\n",
       "      <td>4054</td>\n",
       "      <td>02</td>\n",
       "      <td>nan</td>\n",
       "      <td>6</td>\n",
       "    </tr>\n",
       "    <tr>\n",
       "      <th>posConditionCode</th>\n",
       "      <td>409</td>\n",
       "      <td>01</td>\n",
       "      <td>nan</td>\n",
       "      <td>4</td>\n",
       "    </tr>\n",
       "    <tr>\n",
       "      <th>merchantCategoryCode</th>\n",
       "      <td>0</td>\n",
       "      <td>airline</td>\n",
       "      <td>subscriptions</td>\n",
       "      <td>19</td>\n",
       "    </tr>\n",
       "    <tr>\n",
       "      <th>currentExpDate</th>\n",
       "      <td>0</td>\n",
       "      <td>01/2020</td>\n",
       "      <td>12/2032</td>\n",
       "      <td>165</td>\n",
       "    </tr>\n",
       "    <tr>\n",
       "      <th>accountOpenDate</th>\n",
       "      <td>0</td>\n",
       "      <td>1989-08-22</td>\n",
       "      <td>2015-12-31</td>\n",
       "      <td>1820</td>\n",
       "    </tr>\n",
       "    <tr>\n",
       "      <th>dateOfLastAddressChange</th>\n",
       "      <td>0</td>\n",
       "      <td>1989-08-22</td>\n",
       "      <td>2016-12-30</td>\n",
       "      <td>2184</td>\n",
       "    </tr>\n",
       "    <tr>\n",
       "      <th>cardCVV</th>\n",
       "      <td>0</td>\n",
       "      <td>100</td>\n",
       "      <td>998</td>\n",
       "      <td>899</td>\n",
       "    </tr>\n",
       "    <tr>\n",
       "      <th>enteredCVV</th>\n",
       "      <td>0</td>\n",
       "      <td>0</td>\n",
       "      <td>998</td>\n",
       "      <td>976</td>\n",
       "    </tr>\n",
       "    <tr>\n",
       "      <th>cardLast4Digits</th>\n",
       "      <td>0</td>\n",
       "      <td>0</td>\n",
       "      <td>9998</td>\n",
       "      <td>5245</td>\n",
       "    </tr>\n",
       "    <tr>\n",
       "      <th>transactionType</th>\n",
       "      <td>698</td>\n",
       "      <td>ADDRESS_VERIFICATION</td>\n",
       "      <td>nan</td>\n",
       "      <td>4</td>\n",
       "    </tr>\n",
       "    <tr>\n",
       "      <th>echoBuffer</th>\n",
       "      <td>786363</td>\n",
       "      <td>NaN</td>\n",
       "      <td>NaN</td>\n",
       "      <td>0</td>\n",
       "    </tr>\n",
       "    <tr>\n",
       "      <th>currentBalance</th>\n",
       "      <td>0</td>\n",
       "      <td>0.0</td>\n",
       "      <td>47498.81</td>\n",
       "      <td>487318</td>\n",
       "    </tr>\n",
       "    <tr>\n",
       "      <th>merchantCity</th>\n",
       "      <td>786363</td>\n",
       "      <td>NaN</td>\n",
       "      <td>NaN</td>\n",
       "      <td>0</td>\n",
       "    </tr>\n",
       "    <tr>\n",
       "      <th>merchantState</th>\n",
       "      <td>786363</td>\n",
       "      <td>NaN</td>\n",
       "      <td>NaN</td>\n",
       "      <td>0</td>\n",
       "    </tr>\n",
       "    <tr>\n",
       "      <th>merchantZip</th>\n",
       "      <td>786363</td>\n",
       "      <td>NaN</td>\n",
       "      <td>NaN</td>\n",
       "      <td>0</td>\n",
       "    </tr>\n",
       "    <tr>\n",
       "      <th>cardPresent</th>\n",
       "      <td>0</td>\n",
       "      <td>False</td>\n",
       "      <td>True</td>\n",
       "      <td>2</td>\n",
       "    </tr>\n",
       "    <tr>\n",
       "      <th>posOnPremises</th>\n",
       "      <td>786363</td>\n",
       "      <td>NaN</td>\n",
       "      <td>NaN</td>\n",
       "      <td>0</td>\n",
       "    </tr>\n",
       "    <tr>\n",
       "      <th>recurringAuthInd</th>\n",
       "      <td>786363</td>\n",
       "      <td>NaN</td>\n",
       "      <td>NaN</td>\n",
       "      <td>0</td>\n",
       "    </tr>\n",
       "    <tr>\n",
       "      <th>expirationDateKeyInMatch</th>\n",
       "      <td>0</td>\n",
       "      <td>False</td>\n",
       "      <td>True</td>\n",
       "      <td>2</td>\n",
       "    </tr>\n",
       "    <tr>\n",
       "      <th>isFraud</th>\n",
       "      <td>0</td>\n",
       "      <td>False</td>\n",
       "      <td>True</td>\n",
       "      <td>2</td>\n",
       "    </tr>\n",
       "  </tbody>\n",
       "</table>\n",
       "</div>"
      ],
      "text/plain": [
       "                          Count of Nulls             Min_value  \\\n",
       "accountNumber                          0             100088067   \n",
       "customerId                             0             100088067   \n",
       "creditLimit                            0                   250   \n",
       "availableMoney                         0              -1005.63   \n",
       "transactionDateTime                    0   2016-01-01T00:01:02   \n",
       "transactionAmount                      0                   0.0   \n",
       "merchantName                           0               1st BBQ   \n",
       "acqCountry                          4562                   CAN   \n",
       "merchantCountryCode                  724                   CAN   \n",
       "posEntryMode                        4054                    02   \n",
       "posConditionCode                     409                    01   \n",
       "merchantCategoryCode                   0               airline   \n",
       "currentExpDate                         0               01/2020   \n",
       "accountOpenDate                        0            1989-08-22   \n",
       "dateOfLastAddressChange                0            1989-08-22   \n",
       "cardCVV                                0                   100   \n",
       "enteredCVV                             0                     0   \n",
       "cardLast4Digits                        0                     0   \n",
       "transactionType                      698  ADDRESS_VERIFICATION   \n",
       "echoBuffer                        786363                   NaN   \n",
       "currentBalance                         0                   0.0   \n",
       "merchantCity                      786363                   NaN   \n",
       "merchantState                     786363                   NaN   \n",
       "merchantZip                       786363                   NaN   \n",
       "cardPresent                            0                 False   \n",
       "posOnPremises                     786363                   NaN   \n",
       "recurringAuthInd                  786363                   NaN   \n",
       "expirationDateKeyInMatch               0                 False   \n",
       "isFraud                                0                 False   \n",
       "\n",
       "                                    Max_value  Unique_value  \n",
       "accountNumber                       999389635          5000  \n",
       "customerId                          999389635          5000  \n",
       "creditLimit                             50000            10  \n",
       "availableMoney                        50000.0        521915  \n",
       "transactionDateTime       2016-12-30T23:59:45        776637  \n",
       "transactionAmount                     2011.54         66038  \n",
       "merchantName               williamssonoma.com          2490  \n",
       "acqCountry                                nan             5  \n",
       "merchantCountryCode                       nan             5  \n",
       "posEntryMode                              nan             6  \n",
       "posConditionCode                          nan             4  \n",
       "merchantCategoryCode            subscriptions            19  \n",
       "currentExpDate                        12/2032           165  \n",
       "accountOpenDate                    2015-12-31          1820  \n",
       "dateOfLastAddressChange            2016-12-30          2184  \n",
       "cardCVV                                   998           899  \n",
       "enteredCVV                                998           976  \n",
       "cardLast4Digits                          9998          5245  \n",
       "transactionType                           nan             4  \n",
       "echoBuffer                                NaN             0  \n",
       "currentBalance                       47498.81        487318  \n",
       "merchantCity                              NaN             0  \n",
       "merchantState                             NaN             0  \n",
       "merchantZip                               NaN             0  \n",
       "cardPresent                              True             2  \n",
       "posOnPremises                             NaN             0  \n",
       "recurringAuthInd                          NaN             0  \n",
       "expirationDateKeyInMatch                 True             2  \n",
       "isFraud                                  True             2  "
      ]
     },
     "execution_count": 17,
     "metadata": {},
     "output_type": "execute_result"
    }
   ],
   "source": [
    "# merge various table to provide insight of dataset structure\n",
    "dfs = [df_null,df_min,df_max,df_uni]\n",
    "df_s = reduce(lambda df_left,df_right: pd.merge(df_left,df_right,left_index=True,right_index=True,how='outer'),dfs)\n",
    "df_s.columns = [\"Count of Nulls\",\"Min_value\",\"Max_value\",\"Unique_value\"]\n",
    "df_s"
   ]
  },
  {
   "cell_type": "markdown",
   "metadata": {},
   "source": [
    "#### From the above table we can extract the following key infomation:\n",
    "- There are 5000 unique users in the dataset\n",
    "- Features **echoBuffer**, **merchantCity**, **merchantState**, **merchantZip**, **posOnPremises**, **recurringAuthInd** are missing \n",
    "- Features **acqCountry**, **merchantCountryCode**, **posEntryMode**, **posConditionCode**, **transactionType** have missing elements"
   ]
  },
  {
   "cell_type": "markdown",
   "metadata": {},
   "source": [
    "### Todo: provide statistic information for numerical features"
   ]
  },
  {
   "cell_type": "code",
   "execution_count": 18,
   "metadata": {},
   "outputs": [],
   "source": [
    "# num_col = ['creditLimit','availableMoney','transactionAmount','currentBalance']\n",
    "# df[num_col].describe()"
   ]
  },
  {
   "cell_type": "markdown",
   "metadata": {},
   "source": [
    "From the statistics of numerical features we observe, most of the numerical features follow **asymmetric distribution**. The majority of numeric features **skew to the right** hand side, which indicates a larger portion of transactions concentrated in the small amount range but with high variation."
   ]
  },
  {
   "cell_type": "code",
   "execution_count": 19,
   "metadata": {},
   "outputs": [],
   "source": [
    "# drop redundant columns \n",
    "df.drop(empty_col, axis = 1, inplace = True)"
   ]
  },
  {
   "cell_type": "markdown",
   "metadata": {},
   "source": [
    "### <a class=\"anchor\" id=\"Plot\">Part II : Plot and general analysis of dataset</a>"
   ]
  },
  {
   "cell_type": "markdown",
   "metadata": {},
   "source": [
    "####  <font size=\"+1\">Question 2: Plot\n",
    "`1.` Plot a histogram of the processed amounts of each transaction, the transactionAmount column.<br>\n",
    "`2.` Report any structure you find and any hypotheses you have about that structure."
   ]
  },
  {
   "cell_type": "markdown",
   "metadata": {},
   "source": [
    "**1.** **Histogram and box chart of the processed amounts of each transaction**<br>"
   ]
  },
  {
   "cell_type": "markdown",
   "metadata": {},
   "source": [
    "**2.** **Report any structure you find and any hypotheses you have about that structure**<br>"
   ]
  },
  {
   "cell_type": "markdown",
   "metadata": {},
   "source": [
    "Base on the histogram of the processed amount of each transaction, we justify our hypothesis that the distribution **skew to the right**. And the majority of the process concentrated on the 0 to 500 dollar range. If we compare the distribution of Fraud transactions and normal transactions, we believe there is an observable difference between them based on the transaction amounts.\n",
    "\n",
    "- The distribution of real transaction amounts is more skewed to the right comparing with that of fraud transactions. Based on this observation we proposed **hypothesis 1: Fraud transactions are more likely to appear on the bigger amount.** which makes sense in the realistic condition. \n",
    "\n",
    "- Average of real transaction amounts is 136 dollars, much less than the average of fraud transaction amounts, 225 dollars. 50% of real transaction amounts are under 87 dollars also less than that of fraud transaction amounts, under 177 dollars. Meanwhile, 25% of fraud transaction amounts are under 87 dollars, and 50% of normal transaction amounts are under 87 dollars. \n",
    "\n",
    "- The maximum transaction amounts of the normal transaction is 2011.54 dollars, 400 dollars larger than the maximum transaction amounts of fraud transaction.\n",
    "\n",
    "Explanation of **hypothesis 1**: Frauds are less likely to happen among small transactions since the risk of getting caught weighs heavier than the potential gain. Medium to large transactions (50 to 120 dollars) might be the target range for internet fraud.  "
   ]
  },
  {
   "cell_type": "markdown",
   "metadata": {},
   "source": [
    "Feature **avaiableMoney** and **currentBalance** follows **positively skewed** distribution pattern. And **creditLimit** follows **multi-Gaussian** distribution. These asymmetric numerical features should be emphasized, and adjusted in model construction."
   ]
  },
  {
   "cell_type": "markdown",
   "metadata": {},
   "source": [
    "### To-do: Shall we input all the features into the modeler?"
   ]
  },
  {
   "cell_type": "code",
   "execution_count": 20,
   "metadata": {},
   "outputs": [],
   "source": [
    "# plot heat map of correlation between variables\n",
    "# corr = df.corr()"
   ]
  },
  {
   "cell_type": "code",
   "execution_count": 21,
   "metadata": {},
   "outputs": [
    {
     "data": {
      "image/png": "[encoded data removed]",
      "text/plain": [
       "<Figure size 1080x1296 with 2 Axes>"
      ]
     },
     "metadata": {},
     "output_type": "display_data"
    }
   ],
   "source": [
    "# sns heat map https://seaborn.pydata.org/generated/seaborn.heatmap.html\n",
    "mask = np.zeros_like(corr, dtype=np.bool)\n",
    "mask[np.triu_indices_from(mask)]= True\n",
    "# remove the top right triangle of the heat map\n",
    "sns.set(font_scale= 1)\n",
    "with sns.axes_style(\"white\"):\n",
    "    fig, ax = plt.subplots(figsize=(15, 18))\n",
    "    sns.heatmap(corr, vmin = -1, vmax = 1,\n",
    "                center = 0,cmap=sns.diverging_palette(20, 220, n=10),\n",
    "                annot = True, mask = mask,square = True,\n",
    "                cbar_kws = {'shrink': .6, 'ticks' : [-1, -.5, 0, 0.5, 1]},\n",
    "               annot_kws={\"size\": 12})\n",
    "    ax.set_xticklabels(ax.get_xticklabels(),rotation=45,horizontalalignment='right')"
   ]
  },
  {
   "cell_type": "markdown",
   "metadata": {},
   "source": [
    "**Based on the correalation heat map, we observe:**\n",
    "- feature cardCVV is almost identical to enteredCVV. They are not exactly the same. **Hypothesis 2**: If cardCVV is not equal to entered CVV, the corresponding transaction is highly possible to be a Fraud.    \n",
    "- current balance can be calculated with available money and credit limit. **Hypothesis 3**: features are not independent of each other\n",
    "- customerID is the same with accountNumber, in this way one of them should be removed"
   ]
  },
  {
   "cell_type": "markdown",
   "metadata": {},
   "source": [
    "### <a class=\"anchor\" id=\"Clean\">Part III : Data Wrangling - Duplicate Transactions</a>"
   ]
  },
  {
   "cell_type": "markdown",
   "metadata": {},
   "source": [
    "####  <font size=\"+1\">Question 3: Data Wrangling - Duplicate Transactions\n",
    "You will notice a number of what look like duplicated transactions in the data set. One type of duplicated transaction is a reversed transaction, where a purchase is followed by a reversal. Another example is a multi-swipe, where a vendor accidentally charges a customer's card multiple times within a short time span.\n",
    "\n",
    "`1.` Can you programmatically identify reversed and multi-swipe transactions?<br>\n",
    "`2.` What total number of transactions and total dollar amount do you estimate for the reversed transactions? For the multi-swipe transactions? (please consider the first transaction to be \"normal\" and exclude it from the number of transaction and dollar amount counts)<br>\n",
    "`3.` Did you find anything interesting about either kind of transaction?"
   ]
  },
  {
   "cell_type": "code",
   "execution_count": 27,
   "metadata": {},
   "outputs": [
    {
     "data": {
      "text/plain": [
       "False    786363\n",
       "dtype: int64"
      ]
     },
     "execution_count": 27,
     "metadata": {},
     "output_type": "execute_result"
    }
   ],
   "source": [
    "# check for duplicates before further processing\n",
    "df.duplicated().value_counts()"
   ]
  },
  {
   "cell_type": "markdown",
   "metadata": {},
   "source": [
    "There are no complete duplicate record in transaction dataset"
   ]
  },
  {
   "cell_type": "markdown",
   "metadata": {},
   "source": [
    "**1.** **Identification of reversed and multi-swipe transactions**\n",
    "<br>**a.** **reversal transactions** \n",
    "- Reversal transactions are labeled as **REVERSAL** in the transactionType field\n",
    "- There are **20303** record of reversal transactions, with total amount of **2821792** dollars"
   ]
  },
  {
   "cell_type": "code",
   "execution_count": 28,
   "metadata": {},
   "outputs": [
    {
     "name": "stdout",
     "output_type": "stream",
     "text": [
      "There are 20303 record of reversal transactions, with total amount of 2821792.4999999753 dollars\n"
     ]
    }
   ],
   "source": [
    "# count number of reversal transations\n",
    "num_rev = df.transactionType.value_counts()['REVERSAL']\n",
    "# calculate total dollar amount do of reversal transactions\n",
    "dollar_rev = df.groupby('transactionType').sum()['transactionAmount']['REVERSAL']\n",
    "print(\"There are %s record of reversal transactions, with total amount of %s dollars\" %(num_rev,dollar_rev))"
   ]
  },
  {
   "cell_type": "code",
   "execution_count": 29,
   "metadata": {},
   "outputs": [
    {
     "data": {
      "text/html": [
       "<div>\n",
       "<style scoped>\n",
       "    .dataframe tbody tr th:only-of-type {\n",
       "        vertical-align: middle;\n",
       "    }\n",
       "\n",
       "    .dataframe tbody tr th {\n",
       "        vertical-align: top;\n",
       "    }\n",
       "\n",
       "    .dataframe thead th {\n",
       "        text-align: right;\n",
       "    }\n",
       "</style>\n",
       "<table border=\"1\" class=\"dataframe\">\n",
       "  <thead>\n",
       "    <tr style=\"text-align: right;\">\n",
       "      <th></th>\n",
       "      <th>accountNumber</th>\n",
       "      <th>customerId</th>\n",
       "      <th>creditLimit</th>\n",
       "      <th>availableMoney</th>\n",
       "      <th>transactionDateTime</th>\n",
       "      <th>transactionAmount</th>\n",
       "      <th>merchantName</th>\n",
       "      <th>acqCountry</th>\n",
       "      <th>merchantCountryCode</th>\n",
       "      <th>posEntryMode</th>\n",
       "      <th>...</th>\n",
       "      <th>accountOpenDate</th>\n",
       "      <th>dateOfLastAddressChange</th>\n",
       "      <th>cardCVV</th>\n",
       "      <th>enteredCVV</th>\n",
       "      <th>cardLast4Digits</th>\n",
       "      <th>transactionType</th>\n",
       "      <th>currentBalance</th>\n",
       "      <th>cardPresent</th>\n",
       "      <th>expirationDateKeyInMatch</th>\n",
       "      <th>isFraud</th>\n",
       "    </tr>\n",
       "  </thead>\n",
       "  <tbody>\n",
       "    <tr>\n",
       "      <th>38</th>\n",
       "      <td>574788567</td>\n",
       "      <td>574788567</td>\n",
       "      <td>2500</td>\n",
       "      <td>2416.11</td>\n",
       "      <td>2016-05-24T01:35:33</td>\n",
       "      <td>215.13</td>\n",
       "      <td>Convenient Tire</td>\n",
       "      <td>US</td>\n",
       "      <td>US</td>\n",
       "      <td>09</td>\n",
       "      <td>...</td>\n",
       "      <td>2015-10-13</td>\n",
       "      <td>2015-10-13</td>\n",
       "      <td>206</td>\n",
       "      <td>206</td>\n",
       "      <td>8522</td>\n",
       "      <td>PURCHASE</td>\n",
       "      <td>83.89</td>\n",
       "      <td>True</td>\n",
       "      <td>False</td>\n",
       "      <td>False</td>\n",
       "    </tr>\n",
       "    <tr>\n",
       "      <th>39</th>\n",
       "      <td>574788567</td>\n",
       "      <td>574788567</td>\n",
       "      <td>2500</td>\n",
       "      <td>2200.98</td>\n",
       "      <td>2016-05-24T01:38:03</td>\n",
       "      <td>215.13</td>\n",
       "      <td>Convenient Tire</td>\n",
       "      <td>US</td>\n",
       "      <td>US</td>\n",
       "      <td>09</td>\n",
       "      <td>...</td>\n",
       "      <td>2015-10-13</td>\n",
       "      <td>2015-10-13</td>\n",
       "      <td>206</td>\n",
       "      <td>206</td>\n",
       "      <td>8522</td>\n",
       "      <td>REVERSAL</td>\n",
       "      <td>299.02</td>\n",
       "      <td>True</td>\n",
       "      <td>False</td>\n",
       "      <td>False</td>\n",
       "    </tr>\n",
       "  </tbody>\n",
       "</table>\n",
       "<p>2 rows × 23 columns</p>\n",
       "</div>"
      ],
      "text/plain": [
       "    accountNumber  customerId  creditLimit  availableMoney  \\\n",
       "38      574788567   574788567         2500         2416.11   \n",
       "39      574788567   574788567         2500         2200.98   \n",
       "\n",
       "    transactionDateTime  transactionAmount     merchantName acqCountry  \\\n",
       "38  2016-05-24T01:35:33             215.13  Convenient Tire         US   \n",
       "39  2016-05-24T01:38:03             215.13  Convenient Tire         US   \n",
       "\n",
       "   merchantCountryCode posEntryMode  ... accountOpenDate  \\\n",
       "38                  US           09  ...      2015-10-13   \n",
       "39                  US           09  ...      2015-10-13   \n",
       "\n",
       "   dateOfLastAddressChange cardCVV enteredCVV cardLast4Digits  \\\n",
       "38              2015-10-13     206        206            8522   \n",
       "39              2015-10-13     206        206            8522   \n",
       "\n",
       "    transactionType  currentBalance  cardPresent expirationDateKeyInMatch  \\\n",
       "38         PURCHASE           83.89         True                    False   \n",
       "39         REVERSAL          299.02         True                    False   \n",
       "\n",
       "    isFraud  \n",
       "38    False  \n",
       "39    False  \n",
       "\n",
       "[2 rows x 23 columns]"
      ]
     },
     "execution_count": 29,
     "metadata": {},
     "output_type": "execute_result"
    }
   ],
   "source": [
    "# give an example for purchase and reversal \n",
    "df[(df['customerId'] == 574788567)&(df['transactionAmount'] == 215.13)]"
   ]
  },
  {
   "cell_type": "markdown",
   "metadata": {},
   "source": [
    "**b.** **multi-swipe transactions:**\n",
    "<br> multi-swipe transactions are transaction processed repreatedly. In this way, muti-swipe transactions should follows \n",
    "<br>`1.`have the same **merchantName**, **accountNumber**, **transactionAmount**, **cardLast4Digits**\n",
    "<br>`2.`difference of **transactionDateTime** between transactions is in short time period (**threshold 2mins**)"
   ]
  },
  {
   "cell_type": "code",
   "execution_count": 30,
   "metadata": {},
   "outputs": [
    {
     "data": {
      "text/plain": [
       "PURCHASE                745193\n",
       "REVERSAL                 20303\n",
       "ADDRESS_VERIFICATION     20169\n",
       "nan                        698\n",
       "Name: transactionType, dtype: int64"
      ]
     },
     "execution_count": 30,
     "metadata": {},
     "output_type": "execute_result"
    }
   ],
   "source": [
    "# check values in transactionType\n",
    "df.transactionType.value_counts()"
   ]
  },
  {
   "cell_type": "code",
   "execution_count": 31,
   "metadata": {},
   "outputs": [
    {
     "data": {
      "text/plain": [
       "0.0"
      ]
     },
     "execution_count": 31,
     "metadata": {},
     "output_type": "execute_result"
    }
   ],
   "source": [
    "# check if \"ADDRESS_VERiFICATION\" is real transaction with money processed\n",
    "df[df['transactionType']==\"ADDRESS_VERIFICATION\"]['transactionAmount'].sum()"
   ]
  },
  {
   "cell_type": "markdown",
   "metadata": {},
   "source": [
    "No money transfered in **ADDRESS_VERIFICATION** type of transactions"
   ]
  },
  {
   "cell_type": "markdown",
   "metadata": {},
   "source": [
    "**Format unification**"
   ]
  },
  {
   "cell_type": "code",
   "execution_count": 32,
   "metadata": {},
   "outputs": [],
   "source": [
    "# modify time features\n",
    "import datetime\n",
    "df['transactionDateTime'] = df['transactionDateTime'].apply(lambda x: datetime.datetime.strptime(x,'%Y-%m-%dT%H:%M:%S'))\n",
    "df['accountOpenDate'] = df['accountOpenDate'].apply(lambda x: datetime.datetime.strptime(x, '%Y-%m-%d'))\n",
    "df['currentExpDate'] = df['currentExpDate'].apply(lambda x: datetime.datetime.strptime(x, '%m/%Y'))\n",
    "df['dateOfLastAddressChange'] = df['dateOfLastAddressChange'].apply(lambda x: datetime.datetime.strptime(x, '%Y-%m-%d'))\n",
    "# unify feature type\n",
    "for col in int_col:\n",
    "    df[col] = df[col].astype(int)"
   ]
  },
  {
   "cell_type": "code",
   "execution_count": 33,
   "metadata": {},
   "outputs": [],
   "source": [
    "# subset out transactionns with money transfer other than \"Reverse\"\n",
    "df_t = df[(df['transactionType'] == 'nan')|(df['transactionType'] == \"PURCHASE\")]\n",
    "# select record with the same 'customerId','merchantName','transactionAmount', 'cardLast4Digits'\n",
    "same_col = ['transactionAmount','customerId','merchantName','cardLast4Digits']\n",
    "df_mul = df_t.groupby(same_col).size().reset_index(name = 'counts')\n",
    "# select record with repeatition and save a duplicate dataframe\n",
    "df_dup = df_mul[df_mul['counts'] > 1]"
   ]
  },
  {
   "cell_type": "code",
   "execution_count": 34,
   "metadata": {},
   "outputs": [],
   "source": [
    "# need to select duplicate record processed in a short period of time\n",
    "# merger time lable in the df_dup dataset\n",
    "df_dup_full = pd.merge(df_t,df_dup,on = ['transactionAmount','customerId','merchantName','cardLast4Digits'], how = \"inner\")[same_col+['transactionDateTime','isFraud']]"
   ]
  },
  {
   "cell_type": "code",
   "execution_count": 35,
   "metadata": {},
   "outputs": [
    {
     "ename": "ModuleNotFoundError",
     "evalue": "No module named 'tqdm'",
     "output_type": "error",
     "traceback": [
      "\u001b[0;31m---------------------------------------------------------------------------\u001b[0m",
      "\u001b[0;31mModuleNotFoundError\u001b[0m                       Traceback (most recent call last)",
      "\u001b[0;32m<ipython-input-35-c44a9e9730bb>\u001b[0m in \u001b[0;36m<module>\u001b[0;34m\u001b[0m\n\u001b[0;32m----> 1\u001b[0;31m \u001b[0;32mfrom\u001b[0m \u001b[0mtqdm\u001b[0m \u001b[0;32mimport\u001b[0m \u001b[0mtqdm\u001b[0m\u001b[0;34m\u001b[0m\u001b[0;34m\u001b[0m\u001b[0m\n\u001b[0m\u001b[1;32m      2\u001b[0m \u001b[0mcollection\u001b[0m \u001b[0;34m=\u001b[0m \u001b[0;34m[\u001b[0m\u001b[0;34m]\u001b[0m\u001b[0;34m\u001b[0m\u001b[0;34m\u001b[0m\u001b[0m\n\u001b[1;32m      3\u001b[0m \u001b[0;31m# Building a list of samll dataframes for each multi-transactions with same ['customerId','merchantName','transactionAmount', 'cardLast4Digits']\u001b[0m\u001b[0;34m\u001b[0m\u001b[0;34m\u001b[0m\u001b[0;34m\u001b[0m\u001b[0m\n\u001b[1;32m      4\u001b[0m \u001b[0;32mfor\u001b[0m \u001b[0mi\u001b[0m \u001b[0;32min\u001b[0m \u001b[0mtqdm\u001b[0m\u001b[0;34m(\u001b[0m\u001b[0mrange\u001b[0m\u001b[0;34m(\u001b[0m\u001b[0mlen\u001b[0m\u001b[0;34m(\u001b[0m\u001b[0mdf_dup\u001b[0m\u001b[0;34m)\u001b[0m\u001b[0;34m)\u001b[0m\u001b[0;34m)\u001b[0m\u001b[0;34m:\u001b[0m\u001b[0;34m\u001b[0m\u001b[0;34m\u001b[0m\u001b[0m\n\u001b[1;32m      5\u001b[0m     subset = df_dup_full.loc[(df_dup_full.customerId == df_dup_full.iloc[i,1]) \n",
      "\u001b[0;31mModuleNotFoundError\u001b[0m: No module named 'tqdm'"
     ]
    }
   ],
   "source": [
    "from tqdm import tqdm\n",
    "collection = []\n",
    "# Building a list of samll dataframes for each multi-transactions with same ['customerId','merchantName','transactionAmount', 'cardLast4Digits']\n",
    "for i in tqdm(range(len(df_dup))):\n",
    "    subset = df_dup_full.loc[(df_dup_full.customerId == df_dup_full.iloc[i,1]) \n",
    "                       & (df_dup_full.merchantName == df_dup_full.iloc[i,2]) \n",
    "                       & (df_dup_full.transactionAmount == df_dup_full.iloc[i,0])\n",
    "                       & (df_dup_full.cardLast4Digits == df_dup_full.iloc[i,3])]\n",
    "    subset.sort_values(by='transactionDateTime', ascending=True)\n",
    "    subset.reset_index(drop=True, inplace = True)\n",
    "    collection.append(subset)"
   ]
  },
  {
   "cell_type": "code",
   "execution_count": 32,
   "metadata": {},
   "outputs": [
    {
     "name": "stderr",
     "output_type": "stream",
     "text": [
      "100%|██████████| 14853/14853 [00:10<00:00, 1430.24it/s]\n"
     ]
    }
   ],
   "source": [
    "df_mul = pd.DataFrame(columns = collection[0].columns)\n",
    "# we will get the time interval between transactions, time seq smaller than 2 mins is treated as multi-swap\n",
    "for row in tqdm(range(len(collection))): \n",
    "    for p0 in range(len(collection[row])-1):\n",
    "        p1 = p0 + 1\n",
    "        # time label is already sorted\n",
    "        date0 = collection[row]['transactionDateTime'][p0]\n",
    "        date1 = collection[row]['transactionDateTime'][p1]\n",
    "        seq = (date1 - date0).total_seconds()\n",
    "        if abs(seq) < 120: \n",
    "            #Excluding the first 'normal' transaction\n",
    "            record = collection[row].iloc[p1].to_frame().transpose()\n",
    "            df_mul = pd.concat([df_mul, record], ignore_index=True)"
   ]
  },
  {
   "cell_type": "code",
   "execution_count": 33,
   "metadata": {},
   "outputs": [
    {
     "name": "stdout",
     "output_type": "stream",
     "text": [
      "Count of Multi-swipe is 2477 with total amount of 389751.1199999983\n"
     ]
    }
   ],
   "source": [
    "shape, amount = df_mul.shape, df_mul.transactionAmount.sum()\n",
    "print(\"Count of Multi-swipe is %s with total amount of %s\" %(shape[0],amount))"
   ]
  },
  {
   "cell_type": "markdown",
   "metadata": {},
   "source": [
    "**2.Total number of transactions and total dollar for the reversed transactions and multi-swipe transactions**"
   ]
  },
  {
   "cell_type": "markdown",
   "metadata": {},
   "source": [
    "There are **20303** record of reversal transactions, with total amount of **2821792** dollars\n",
    "<br>There are **2146** record of multi-swipe transactions, with total amount of **450488** dollars "
   ]
  },
  {
   "cell_type": "markdown",
   "metadata": {},
   "source": [
    "**3. Interesting patterns**"
   ]
  },
  {
   "cell_type": "code",
   "execution_count": 34,
   "metadata": {},
   "outputs": [
    {
     "data": {
      "text/plain": [
       "Text(0.5, 1.0, 'Comparing Transactions between Fraud and Authentic')"
      ]
     },
     "execution_count": 34,
     "metadata": {},
     "output_type": "execute_result"
    },
    {
     "data": {
      "image/png": "[encoded data removed]",
      "text/plain": [
       "<Figure size 720x720 with 1 Axes>"
      ]
     },
     "metadata": {},
     "output_type": "display_data"
    }
   ],
   "source": [
    "plt.figure(figsize=(10,10))\n",
    "sns.violinplot(x='transactionType', y='transactionAmount', hue=\"isFraud\", data=df, palette=\"muted\", split=True)\n",
    "plt.ylabel('Transaction Amount')\n",
    "plt.title('Comparing Transactions between Fraud and Authentic')"
   ]
  },
  {
   "cell_type": "markdown",
   "metadata": {},
   "source": [
    "It is interesting to see that fraud transactions are more common in **Reversal** Transactions. People could lose vigilance when conducting a REVERSE Transaction, thus could possibly get caught by the fraud."
   ]
  },
  {
   "cell_type": "markdown",
   "metadata": {},
   "source": [
    "**Reshape time features**\\\n",
    "<br> Pure time label might be losely correlated with Fraud action. Reshape time stamp could bring more insight.\n",
    "<br> We make the hypothesis that Fraud action could relate to the length of time sequece between transaction time and now or account open date. In this way we create two features:\n",
    "<br>`1.` fromOpenToTransaction = diff (transactionDateTime , accountOpenDate)\n",
    "<br>`2.` fromTransactionToNow = diff (currentExpDate , transactionDateTime)\n",
    "<br>`3.` fromTransactionToChange = diff (transactionDateTime,  dateOfLastAddressChange)\n",
    "<br>`4.` ageOfAccount = diff (currentExpDate , accountOpenDate)"
   ]
  },
  {
   "cell_type": "code",
   "execution_count": 35,
   "metadata": {},
   "outputs": [],
   "source": [
    "# convert data information to reshaped furtures above\n",
    "df['fromOpenToTransaction'] = (df['transactionDateTime'] - df['accountOpenDate']).dt.days\n",
    "df['fromTransactionToNow'] = (df['currentExpDate'] - df['transactionDateTime']).dt.days\n",
    "df['fromTransactionToChange'] = (df['transactionDateTime'] - df['dateOfLastAddressChange']).dt.days\n",
    "df['ageOfAccount'] = (df['transactionDateTime'] - df['accountOpenDate']).dt.days"
   ]
  },
  {
   "cell_type": "code",
   "execution_count": 36,
   "metadata": {},
   "outputs": [],
   "source": [
    "# remove oringinal data from the dataset\n",
    "df.drop(['accountOpenDate','transactionDateTime','currentExpDate','dateOfLastAddressChange'],axis = 1, inplace = True)"
   ]
  },
  {
   "cell_type": "markdown",
   "metadata": {},
   "source": [
    "**Reshape merchantName feature**\n",
    "\n",
    "merchantName is a string object. Simple **one-hot encoding is not a good idea** Since it will lead to the **curse of dimentionality**. In this way, efficiently encoding merchantName feature is required. In this project, we reshape the merchantName feature to **number of times it has received fraud transaction**. And replace the merchantName with Fraud frequency. This procedure may lose some information about the merchant itself, but the idea is worth trying. "
   ]
  },
  {
   "cell_type": "code",
   "execution_count": 37,
   "metadata": {},
   "outputs": [],
   "source": [
    "merchant_f = df[df['isFraud']==True]\n",
    "df_merchant = merchant_f.groupby('merchantName').size()\n",
    "# encloding merchant name with times of fraud transaction in the dataset, for fast extraction using a hashmap\n",
    "merchant_dic = df_merchant.to_dict()\n",
    "df['merchantName'] = df['merchantName'].apply(lambda x: int(merchant_dic[x]) if x in merchant_dic else 0)"
   ]
  },
  {
   "cell_type": "markdown",
   "metadata": {},
   "source": [
    "### <a class=\"anchor\" id=\"Model\">Part IV : Fraud detection model</a>"
   ]
  },
  {
   "cell_type": "markdown",
   "metadata": {},
   "source": [
    "####  <font size=\"+1\"> Question 4: Model\n",
    "Fraud is a problem for any bank. Fraud can take many forms, whether it is someone stealing a single credit card, to large batches of stolen credit card numbers being used on the web, or even a mass compromise of credit card numbers stolen from a merchant via tools like credit card skimming devices.\n",
    "\n",
    "`1.` Each of the transactions in the dataset has a field called isFraud. Please build a predictive model to determine whether a given transaction will be fraudulent or not. Use as much of the data as you like (or all of it).<br>\n",
    "`2.` Provide an estimate of performance using an appropriate sample, and show your work.<br>\n",
    "`3.` Please explain your methodology (modeling algorithm/method used and why, what features/data you found useful, what questions you have, and what you would do next with more time)"
   ]
  },
  {
   "cell_type": "markdown",
   "metadata": {},
   "source": [
    "Our motivation in this project is to build a predictive model for this **classification problem**. Sensitively catch Fraud transactions are the main target. Since **Flase Positive is more acceptable than False Negative**. In this way, we should emphasize more on **Sensitivity** of the model. Ideally a **top left-shifted ROC curve** is our target. In this dataset we have over 40 features, in this way, working with **clustering (k-mean algorithm) may not be a good idea** since it might lead us to **the curse of dimensions**. \n",
    "\n",
    "The difficulty of building a sensitive model is to **deal with the skewed features in the dataset.**. As previously discussed, we found numerical features, such as **availableMoney**, **currentBalance** are extremely **right skewed**. Solving the problem of imbalanced features requires some extra thoughts.   \n",
    "\n",
    "Due to the **time and computational resource limit**, I decided to focus on **Logistic Regression**. Even though It do not work well with imbalanced data, it can still be optimized with **Over sampling** techniques, which leave room for further modification. <br>\n",
    "<br>`a.` Logistic Regression can quickly classify large volumes of data with relatively low computational cost\n",
    "<br>`b.` The predictive analytics algorithms can be enhanced using **Oversampling technique**. And improve the model performance on **asymmetric features**."
   ]
  },
  {
   "cell_type": "code",
   "execution_count": 38,
   "metadata": {},
   "outputs": [],
   "source": [
    "# prepare the training matrix for modeling\n",
    "# category features require tokenization\n",
    "cat_col = ['posConditionCode','merchantCountryCode','acqCountry','merchantCategoryCode','transactionType','posEntryMode']\n",
    "df_cat = pd.get_dummies(df[cat_col])\n",
    "# merge the remaining part of the dataset\n",
    "df_res = df.drop(cat_col,axis = 1)\n",
    "df_clean = pd.concat([df_cat, df_res], axis=1)"
   ]
  },
  {
   "cell_type": "code",
   "execution_count": 39,
   "metadata": {},
   "outputs": [
    {
     "data": {
      "text/plain": [
       "False    773946\n",
       "True      12417\n",
       "Name: isFraud, dtype: int64"
      ]
     },
     "execution_count": 39,
     "metadata": {},
     "output_type": "execute_result"
    }
   ],
   "source": [
    "df_clean.isFraud.value_counts()"
   ]
  },
  {
   "cell_type": "code",
   "execution_count": 40,
   "metadata": {},
   "outputs": [],
   "source": [
    "# save cleaning dataset as backup\n",
    "df_clean.to_csv('transaction_clean.csv', index=False)"
   ]
  },
  {
   "cell_type": "markdown",
   "metadata": {},
   "source": [
    "**Logistic Regression** (without asymmetry adjustment)\n",
    "<br>\n",
    "Simpe logistic regression model is built for a start. Without considering **asymmetry distribution** of features. **Theoretically, the result should not look good**"
   ]
  },
  {
   "cell_type": "code",
   "execution_count": 41,
   "metadata": {},
   "outputs": [],
   "source": [
    "df_clean = pd.read_csv('transaction_clean.csv')"
   ]
  },
  {
   "cell_type": "code",
   "execution_count": 42,
   "metadata": {},
   "outputs": [
    {
     "name": "stdout",
     "output_type": "stream",
     "text": [
      "(786363, 59) (786363,)\n"
     ]
    }
   ],
   "source": [
    "# select X for features set, y for label set\n",
    "X_features = list(set(df_clean.columns) - set(['isFraud']))\n",
    "X = df_clean[X_features]\n",
    "Y = df_clean['isFraud']\n",
    "print(X.shape,Y.shape)"
   ]
  },
  {
   "cell_type": "code",
   "execution_count": 43,
   "metadata": {},
   "outputs": [],
   "source": [
    "from sklearn.linear_model import LogisticRegression, LogisticRegressionCV\n",
    "from sklearn.metrics import roc_curve, auc\n",
    "from sklearn import metrics"
   ]
  },
  {
   "cell_type": "markdown",
   "metadata": {},
   "source": [
    "**Evluation of Simple Logistic Regression model** \n",
    "<br> Evaluation sheet contains the following features:\n",
    "<br>`a.` Accuracy, precision, Recall number, Average Precison-recall Score\n",
    "<br>`b.` Confusion matrix\n",
    "<br>`c.` ROC Curve"
   ]
  },
  {
   "cell_type": "code",
   "execution_count": 44,
   "metadata": {},
   "outputs": [],
   "source": [
    "## modified according to the following link: http://localhost:8889/tree/Documents/Github/scikit-learn-videos\n",
    "from sklearn import linear_model, datasets\n",
    "import pylab as pl\n",
    "from sklearn.metrics import precision_recall_curve\n",
    "from sklearn.metrics import plot_precision_recall_curve\n",
    "from sklearn.metrics import average_precision_score \n",
    "from sklearn.metrics import roc_curve, auc\n",
    "from sklearn.metrics import confusion_matrix, accuracy_score\n",
    "\n",
    "# plot roc curve of corresponding model\n",
    "def draw_ROC(model, xtrain, xvalid, xtest, ytrain, yvalid, ytest):\n",
    "    probas_0 = model.predict_proba(xtrain)[:,1]\n",
    "    probas_1 = model.predict_proba(xvalid)[:,1]\n",
    "    probas_2 = model.predict_proba(xtest)[:,1]\n",
    "    \n",
    "    fpr_0, tpr_0, thresholds_0 = roc_curve(ytrain, probas_0)\n",
    "    fpr_1, tpr_1, thresholds_1 = roc_curve(yvalid, probas_1)\n",
    "    fpr_2, tpr_2, thresholds_2 = roc_curve(ytest, probas_2)\n",
    "    \n",
    "    roc_auc_0 = auc(fpr_0, tpr_0)\n",
    "    roc_auc_1 = auc(fpr_1, tpr_1)\n",
    "    roc_auc_2 = auc(fpr_2, tpr_2)\n",
    "    \n",
    "    # Plot ROC curve\n",
    "    plt.figure(figsize=(5,5))\n",
    "    plt.plot(fpr_0, tpr_0, label='ROC curve - train(AUC = %0.2f)' % roc_auc_0, color='r')\n",
    "    plt.plot(fpr_1, tpr_1, label='ROC curve - validation (AUC = %0.2f)' % roc_auc_1, color='b')\n",
    "    plt.plot(fpr_2, tpr_2, label='ROC curve - test (AUC = %0.2f)' % roc_auc_2, color='g')\n",
    "    plt.plot([0, 1], [0, 1], 'k--')\n",
    "    plt.xlim([0.0, 1.0])\n",
    "    plt.ylim([0.0, 1.0])\n",
    "    plt.xlabel('FP Rate')\n",
    "    plt.ylabel('TP Rate')\n",
    "    plt.title('ROC')\n",
    "    plt.legend()\n",
    "    plt.show()\n",
    "    \n",
    "    print(\"Area under the ROC curve - train: %f\" % roc_auc_0)\n",
    "    print(\"Area under the ROC curve - val: %f\" % roc_auc_1)\n",
    "    print(\"Area under the ROC curve - test: %f\" % roc_auc_2)\n",
    "    \n",
    "def plot_confusion(y_pred, y_test):\n",
    "    conf = confusion_matrix(y_test, y_pred)\n",
    "    acc = accuracy_score(y_test, y_pred)\n",
    "    sns.heatmap(conf,\n",
    "                cmap= sns.diverging_palette(20, 220, n=10),\n",
    "                cbar=False,\n",
    "                annot=True,\n",
    "                fmt='g',\n",
    "                xticklabels=['False', 'True'],\n",
    "                yticklabels=['False', 'True'],\n",
    "                annot_kws={\"size\": 15}\n",
    "                )\n",
    "    plt.show()\n",
    "    \n",
    "# define evaluation content\n",
    "def evaluation(model, xtrain, xvalid, xtest, ytrain, yvalid, ytest, threshold):\n",
    "    y_prob = model.predict_proba(xtest)[:,1]\n",
    "    # first column is the probability of the predicted output being False, second column represent True\n",
    "    y_pred_default = model.predict(xtest)\n",
    "    y_pred = (y_prob >= threshold).astype(bool)\n",
    "    average_precision = average_precision_score(ytest, y_prob)  \n",
    "    # visualize confusion_matrix\n",
    "    plot_confusion(y_pred,ytest)\n",
    "    print(\"Accuracy:\", metrics.accuracy_score(ytest, y_pred_default))\n",
    "    print(\"Precision:\", metrics.precision_score(ytest, y_pred_default))\n",
    "    print(\"Recall:\", metrics.recall_score(ytest, y_pred_default))\n",
    "    print('Average precision-recall score: {0:0.2f}'.format(average_precision))\n",
    "    \n",
    "    # plot roc_curve\n",
    "    draw_ROC(model, xtrain, xvalid, xtest, ytrain, yvalid, ytest)"
   ]
  },
  {
   "cell_type": "code",
   "execution_count": 45,
   "metadata": {},
   "outputs": [
    {
     "name": "stdout",
     "output_type": "stream",
     "text": [
      "(442329, 59) (147443, 59) (196591, 59) (442329,) (147443,) (196591,)\n"
     ]
    }
   ],
   "source": [
    "from sklearn import datasets\n",
    "from sklearn.model_selection import train_test_split\n",
    "from sklearn.preprocessing import StandardScaler\n",
    "scale = StandardScaler()\n",
    "X = scale.fit_transform(X)\n",
    "X_train, X_test, y_train, y_test = train_test_split(X, Y, stratify=Y, test_size=0.25)\n",
    "X_train, X_valid, y_train, y_valid = train_test_split(X_train, y_train, stratify=y_train, test_size=0.25)\n",
    "print(X_train.shape, X_valid.shape, X_test.shape, y_train.shape, y_valid.shape, y_test.shape)"
   ]
  },
  {
   "cell_type": "code",
   "execution_count": 46,
   "metadata": {},
   "outputs": [
    {
     "data": {
      "text/plain": [
       "LogisticRegression(max_iter=200, penalty='l1', random_state=0,\n",
       "                   solver='liblinear')"
      ]
     },
     "execution_count": 46,
     "metadata": {},
     "output_type": "execute_result"
    }
   ],
   "source": [
    "# standardized the dataset and train the model using logistic regression\n",
    "# use logistic regression model to fit standarized dataset\n",
    "lg = LogisticRegression(solver='liblinear', penalty = 'l1', random_state = 0, max_iter = 200)\n",
    "lg.fit(X_train, y_train)"
   ]
  },
  {
   "cell_type": "code",
   "execution_count": 47,
   "metadata": {},
   "outputs": [
    {
     "data": {
      "image/png": "[encoded data removed]",
      "text/plain": [
       "<Figure size 432x288 with 1 Axes>"
      ]
     },
     "metadata": {},
     "output_type": "display_data"
    },
    {
     "name": "stdout",
     "output_type": "stream",
     "text": [
      "Accuracy: 0.9842057876505028\n",
      "Precision: 0.0\n",
      "Recall: 0.0\n",
      "Average precision-recall score: 0.06\n"
     ]
    },
    {
     "data": {
      "image/png": "[encoded data removed]",
      "text/plain": [
       "<Figure size 360x360 with 1 Axes>"
      ]
     },
     "metadata": {},
     "output_type": "display_data"
    },
    {
     "name": "stdout",
     "output_type": "stream",
     "text": [
      "Area under the ROC curve - train: 0.756330\n",
      "Area under the ROC curve - val: 0.753041\n",
      "Area under the ROC curve - test: 0.757568\n"
     ]
    }
   ],
   "source": [
    "evaluation(lg, X_train, X_valid, X_test, y_train, y_valid, y_test, threshold = 0.35)"
   ]
  },
  {
   "cell_type": "markdown",
   "metadata": {},
   "source": [
    "**Logistic Regression (with Oversampling technique)**"
   ]
  },
  {
   "cell_type": "markdown",
   "metadata": {},
   "source": [
    "**Assymetry adjustment**\n",
    "\n",
    "https://machinelearningmastery.com/smote-oversampling-for-imbalanced-classification/\n",
    "<br>\n",
    "Recently showed **Synthetic Minority Oversampling Technique** (SMOTE) performs better when combined with undersampling of the majority class, such as random undersampling. We can update the traning set to first oversample the minority class to have 10 percent the number of examples of the majority class, then use random undersampling to reduce the number of examples in the majority class to have 50 percent more than the minority class."
   ]
  },
  {
   "cell_type": "code",
   "execution_count": 48,
   "metadata": {},
   "outputs": [],
   "source": [
    "from imblearn.pipeline import Pipeline\n",
    "from imblearn.over_sampling import SMOTE\n",
    "from imblearn.under_sampling import RandomUnderSampler\n",
    "from sklearn.preprocessing import StandardScaler\n",
    "def upsample_SMOTE(X_train, y_train, over_r, under_r):\n",
    "    # ratio argument is the percentage of the upsampled minority class in relation to the majority class\n",
    "    over = SMOTE(sampling_strategy = over_r)\n",
    "    under = RandomUnderSampler(sampling_strategy = under_r)\n",
    "    steps = [('over', over), ('under', under)]\n",
    "    pipeline = Pipeline(steps=steps)\n",
    "    X_train_sm, y_train_sm = pipeline.fit_resample(X_train, y_train)\n",
    "    return X_train_sm, y_train_sm"
   ]
  },
  {
   "cell_type": "code",
   "execution_count": 54,
   "metadata": {},
   "outputs": [],
   "source": [
    "# oversampling on the standardized the training set using SMOTE technique\n",
    "X_train_sm, y_train_sm = upsample_SMOTE(X_train, y_train, over_r = 0.15, under_r = 0.4)"
   ]
  },
  {
   "cell_type": "code",
   "execution_count": 55,
   "metadata": {},
   "outputs": [
    {
     "data": {
      "image/png": "[encoded data removed]",
      "text/plain": [
       "<Figure size 1080x1080 with 1 Axes>"
      ]
     },
     "metadata": {},
     "output_type": "display_data"
    },
    {
     "name": "stdout",
     "output_type": "stream",
     "text": [
      "Accuracy: 0.9192435055521362\n",
      "Precision: 0.06681590014923348\n",
      "Recall: 0.3173324742268041\n",
      "Average precision-recall score: 0.06\n"
     ]
    },
    {
     "data": {
      "image/png": "[encoded data removed]",
      "text/plain": [
       "<Figure size 360x360 with 1 Axes>"
      ]
     },
     "metadata": {},
     "output_type": "display_data"
    },
    {
     "name": "stdout",
     "output_type": "stream",
     "text": [
      "Area under the ROC curve - train: 0.758884\n",
      "Area under the ROC curve - val: 0.752789\n",
      "Area under the ROC curve - test: 0.757334\n"
     ]
    }
   ],
   "source": [
    "lg_SMOT = LogisticRegression(solver='liblinear', penalty = 'l1',random_state= True, max_iter = 200)\n",
    "lg_SMOT.fit(X_train_sm, y_train_sm)\n",
    "evaluation(lg_SMOT, X_train_sm, X_valid, X_test, y_train_sm, y_valid, y_test, threshold = 0.4)"
   ]
  },
  {
   "cell_type": "markdown",
   "metadata": {},
   "source": [
    "**Comparison of two models**"
   ]
  },
  {
   "cell_type": "markdown",
   "metadata": {},
   "source": [
    "Logistic regression model (with SMOT oversampling) perform better compared with simple logistic regression model. With detailed comparison showed in the following figure:\n",
    "\n",
    "![](modelresult.png)\n",
    "\n",
    "**Optimized model is evaluated as**\n",
    "- Accuracy: 0.9780407037962063\n",
    "- Precision: 0.13309134906231096\n",
    "- Recall: 0.07087628865979381\n",
    "- Average precision-recall score: 0.06\n",
    "- Average precision-recall score: 0.06\n",
    "- Area under the ROC curve : 0.748089"
   ]
  },
  {
   "cell_type": "markdown",
   "metadata": {},
   "source": [
    "### <a class=\"anchor\" id=\"Future\">Part V : Future Prospective</a>"
   ]
  },
  {
   "cell_type": "markdown",
   "metadata": {},
   "source": [
    "<br>`a.` Multi-normal distribution pattern of **creditLimit** feature should be reshaped, and modified for further improvement \n",
    "<br>`b.` Explore other technique to deal with **asymmetric distribution features**, such as **square root** transformation\n",
    "<br>`c.` Apply **parallel computation** to enhance training efficiency\n",
    "<br>`d.` Reshape the dataset and use **MySQL** to check for multi-swipe with higher efficiency "
   ]
  },
  {
   "cell_type": "markdown",
   "metadata": {},
   "source": [
    "We observe feature **creditLimit** adopted multi-normal distribution pattern, which could introduce errors in building classification models. Transformation of this feature should be conducted to optimize the model. Meanwhile, other algorithms to deal with asymmetric patterns should be tested, in this situation map, numeric features with their square root can be adopted for trial. Meanwhile, the solution to find **multi-swipe** is too slow in this case, it will be much faster to use a relational database to extract those information. For efficiency enhancment, I proposed to reshape the dataset, and use MySQL as platform to extract multi-swipe information. "
   ]
  },
  {
   "cell_type": "markdown",
   "metadata": {},
   "source": [
    "### <a class=\"anchor\" id=\"ref\">Part VI : Reference</a>"
   ]
  },
  {
   "cell_type": "markdown",
   "metadata": {},
   "source": [
    "https://seaborn.pydata.org/generated/seaborn.heatmap.html\n",
    "<br> https://machinelearningmastery.com/smote-oversampling-for-imbalanced-classification/\n",
    "<br> http://localhost:8889/tree/Documents/Github/scikit-learn-videos"
   ]
  },
  {
   "cell_type": "code",
   "execution_count": 51,
   "metadata": {},
   "outputs": [
    {
     "data": {
      "text/plain": [
       "array([[<AxesSubplot:title={'center':'creditLimit'}>,\n",
       "        <AxesSubplot:title={'center':'availableMoney'}>],\n",
       "       [<AxesSubplot:title={'center':'currentBalance'}>,\n",
       "        <AxesSubplot:title={'center':'cardCVV'}>],\n",
       "       [<AxesSubplot:title={'center':'cardLast4Digits'}>,\n",
       "        <AxesSubplot:title={'center':'enteredCVV'}>]], dtype=object)"
      ]
     },
     "execution_count": 51,
     "metadata": {},
     "output_type": "execute_result"
    },
    {
     "data": {
      "image/png": "[encoded data removed]",
      "text/plain": [
       "<Figure size 1080x1080 with 6 Axes>"
      ]
     },
     "metadata": {},
     "output_type": "display_data"
    }
   ],
   "source": [
    "plt.rcParams[\"figure.figsize\"] = (15,15)\n",
    "df[df['isFraud']==True][num_col+int_col+cat_col].hist(color=\"r\", alpha=0.5, bins=50)"
   ]
  },
  {
   "cell_type": "code",
   "execution_count": 52,
   "metadata": {},
   "outputs": [
    {
     "data": {
      "text/plain": [
       "array([[<AxesSubplot:title={'center':'creditLimit'}>,\n",
       "        <AxesSubplot:title={'center':'availableMoney'}>],\n",
       "       [<AxesSubplot:title={'center':'currentBalance'}>,\n",
       "        <AxesSubplot:title={'center':'cardCVV'}>],\n",
       "       [<AxesSubplot:title={'center':'cardLast4Digits'}>,\n",
       "        <AxesSubplot:title={'center':'enteredCVV'}>]], dtype=object)"
      ]
     },
     "execution_count": 52,
     "metadata": {},
     "output_type": "execute_result"
    },
    {
     "data": {
      "image/png": "[encoded data removed]",
      "text/plain": [
       "<Figure size 1080x1080 with 6 Axes>"
      ]
     },
     "metadata": {},
     "output_type": "display_data"
    }
   ],
   "source": [
    "plt.rcParams[\"figure.figsize\"] = (15,15)\n",
    "df[df['isFraud']==False][num_col+int_col+cat_col].hist(color=\"b\", alpha=0.5, bins=50)"
   ]
  },
  {
   "cell_type": "code",
   "execution_count": null,
   "metadata": {},
   "outputs": [],
   "source": []
  }
 ],
 "metadata": {
  "kernelspec": {
   "display_name": "Python 3",
   "language": "python",
   "name": "python3"
  },
  "language_info": {
   "codemirror_mode": {
    "name": "ipython",
    "version": 3
   },
   "file_extension": ".py",
   "mimetype": "text/x-python",
   "name": "python",
   "nbconvert_exporter": "python",
   "pygments_lexer": "ipython3",
   "version": "3.8.5"
  }
 },
 "nbformat": 4,
 "nbformat_minor": 4
}
