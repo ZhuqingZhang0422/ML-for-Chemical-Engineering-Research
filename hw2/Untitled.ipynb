{
 "cells": [
  {
   "cell_type": "markdown",
   "metadata": {},
   "source": [
    "### Problem 1.5 Newton's method"
   ]
  },
  {
   "cell_type": "code",
   "execution_count": 2,
   "metadata": {},
   "outputs": [],
   "source": [
    "import numpy as np"
   ]
  },
  {
   "cell_type": "code",
   "execution_count": 3,
   "metadata": {},
   "outputs": [],
   "source": [
    "X = np.array([[1,0,3],[1,1,3],[1,0,1],[1,1,1]])\n",
    "y = np.array([[1],[1],[0],[0]])"
   ]
  },
  {
   "cell_type": "code",
   "execution_count": 4,
   "metadata": {},
   "outputs": [],
   "source": [
    "theta = np.array([[0],[-2],[1]])"
   ]
  },
  {
   "cell_type": "code",
   "execution_count": 6,
   "metadata": {},
   "outputs": [],
   "source": [
    "theta_opt = np.matmul(np.matmul(np.linalg.inv(np.matmul(X.T,X)),X.T),y)"
   ]
  },
  {
   "cell_type": "code",
   "execution_count": 7,
   "metadata": {},
   "outputs": [
    {
     "data": {
      "text/plain": [
       "array([[-0.5],\n",
       "       [ 0. ],\n",
       "       [ 0.5]])"
      ]
     },
     "execution_count": 7,
     "metadata": {},
     "output_type": "execute_result"
    }
   ],
   "source": [
    "theta_opt"
   ]
  },
  {
   "cell_type": "code",
   "execution_count": null,
   "metadata": {},
   "outputs": [],
   "source": [
    "def sigmoid(x, Θ_1, Θ_2):                                                        \n",
    "    z = (Θ_1*x + Θ_2).astype(\"float_\")                                              \n",
    "    return 1.0 / (1.0 + np.exp(-z)) "
   ]
  },
  {
   "cell_type": "code",
   "execution_count": null,
   "metadata": {},
   "outputs": [],
   "source": [
    "def gradient(x, y, Θ_1, Θ_2):                                                         \n",
    "    sigmoid_probs = sigmoid(x, Θ_1, Θ_2)                                        \n",
    "    return np.array([[np.sum((y - sigmoid_probs) * x),                          \n",
    "                     np.sum((y - sigmoid_probs) * 1)]])                         \n",
    "\n",
    "def hessian(x, y, Θ_1, Θ_2):                                                          \n",
    "    sigmoid_probs = sigmoid(x, Θ_1, Θ_2)                                        \n",
    "    d1 = np.sum((sigmoid_probs * (1 - sigmoid_probs)) * x * x)                  \n",
    "    d2 = np.sum((sigmoid_probs * (1 - sigmoid_probs)) * x * 1)                  \n",
    "    d3 = np.sum((sigmoid_probs * (1 - sigmoid_probs)) * 1 * 1)                  \n",
    "    H = np.array([[d1, d2],[d2, d3]])                                           \n",
    "    return H"
   ]
  },
  {
   "cell_type": "code",
   "execution_count": null,
   "metadata": {},
   "outputs": [],
   "source": [
    "def newtons_method(x, y):                                                             \n",
    "    \"\"\"\n",
    "    :param x (np.array(float)): Vector of Boston House Values in dollars\n",
    "    :param y (np.array(boolean)): Vector of Bools indicting if house has > 2 bedrooms:\n",
    "    :returns: np.array of logreg's parameters after convergence, [Θ_1, Θ_2]\n",
    "    \"\"\"\n",
    "\n",
    "    # Initialize log_likelihood & parameters                                                                   \n",
    "    Θ_1 = 15.1                                                                     \n",
    "    Θ_2 = -.4 # The intercept term                                                                 \n",
    "    Δl = np.Infinity                                                                \n",
    "    l = log_likelihood(x, y, Θ_1, Θ_2)                                                                 \n",
    "    # Convergence Conditions                                                        \n",
    "    δ = .0000000001                                                                 \n",
    "    max_iterations = 15                                                            \n",
    "    i = 0                                                                           \n",
    "    while abs(Δl) > δ and i < max_iterations:                                       \n",
    "        i += 1                                                                      \n",
    "        g = gradient(x, y, Θ_1, Θ_2)                                                      \n",
    "        hess = hessian(x, y, Θ_1, Θ_2)                                                 \n",
    "        H_inv = np.linalg.inv(hess)                                                 \n",
    "        # @ is syntactic sugar for np.dot(H_inv, g.T)¹\n",
    "        Δ = H_inv @ g.T                                                             \n",
    "        ΔΘ_1 = Δ[0][0]                                                              \n",
    "        ΔΘ_2 = Δ[1][0]                                                              \n",
    "                                                                                    \n",
    "        # Perform our update step                                                    \n",
    "        Θ_1 += ΔΘ_1                                                                 \n",
    "        Θ_2 += ΔΘ_2                                                                 \n",
    "                                                                                    \n",
    "        # Update the log-likelihood at each iteration                                     \n",
    "        l_new = log_likelihood(x, y, Θ_1, Θ_2)                                                      \n",
    "        Δl = l - l_new                                                           \n",
    "        l = l_new                                                                \n",
    "    return np.array([Θ_1, Θ_2])  "
   ]
  }
 ],
 "metadata": {
  "kernelspec": {
   "display_name": "Python 3",
   "language": "python",
   "name": "python3"
  },
  "language_info": {
   "codemirror_mode": {
    "name": "ipython",
    "version": 3
   },
   "file_extension": ".py",
   "mimetype": "text/x-python",
   "name": "python",
   "nbconvert_exporter": "python",
   "pygments_lexer": "ipython3",
   "version": "3.7.6"
  }
 },
 "nbformat": 4,
 "nbformat_minor": 4
}
