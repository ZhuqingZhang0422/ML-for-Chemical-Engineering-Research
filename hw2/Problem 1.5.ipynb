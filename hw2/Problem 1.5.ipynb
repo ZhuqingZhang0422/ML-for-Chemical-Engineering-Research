{
 "cells": [
  {
   "cell_type": "code",
   "execution_count": 159,
   "metadata": {},
   "outputs": [],
   "source": [
    "import numpy as np"
   ]
  },
  {
   "cell_type": "code",
   "execution_count": 160,
   "metadata": {},
   "outputs": [],
   "source": [
    "X = np.array([[1,0,3],[1,1,3],[1,0,1],[1,1,1]])\n",
    "theta = np.array([0,-2,1])\n",
    "y = np.array([1,1,0,0]) "
   ]
  },
  {
   "cell_type": "code",
   "execution_count": 161,
   "metadata": {},
   "outputs": [],
   "source": [
    "def sigmoid (z):\n",
    "    #sig = np.zeros(z.shape)\n",
    "    # Your code here\n",
    "    z = np.array(z)\n",
    "    sig = 1/ (1+ np.exp(-z))\n",
    "    # End your code\n",
    "    return sig"
   ]
  },
  {
   "cell_type": "code",
   "execution_count": 162,
   "metadata": {},
   "outputs": [],
   "source": [
    "def grad_loss(theta,X,y,reg):\n",
    "    m,dim = X.shape\n",
    "    grad = np.zeros((dim,))\n",
    "    penal_arr = np.hstack([[0],theta[1:]])\n",
    "    grad = 1/m * np.matmul(X.T,sigmoid(np.matmul(X,theta))-y) + reg/m*penal_arr\n",
    "    return grad"
   ]
  },
  {
   "cell_type": "code",
   "execution_count": 163,
   "metadata": {},
   "outputs": [],
   "source": [
    "def Hessian (theta,X,reg):\n",
    "    m,dim = X.shape\n",
    "    diag_num = sigmoid(np.matmul(X,theta))*(1-sigmoid(np.matmul(X,theta)))\n",
    "    S = np.diag(list(diag_num.reshape(-1)))\n",
    "    penal = reg * np.diag([1]*theta.shape[0])\n",
    "    H = 1/m * (np.matmul(np.matmul(X.T,S),X) + penal)\n",
    "    return H"
   ]
  },
  {
   "cell_type": "code",
   "execution_count": 165,
   "metadata": {},
   "outputs": [
    {
     "name": "stdout",
     "output_type": "stream",
     "text": [
      "current_iteration: 1 theta =  [-5.84203022e+00 -3.80453607e-05  2.92104786e+00]\n",
      "current_iteration: 2 theta =  [-5.84210889e+00 -2.32354776e-05  2.92107445e+00]\n",
      "current_iteration: 3 theta =  [-5.84215694e+00 -1.41906743e-05  2.92109068e+00]\n",
      "current_iteration: 4 theta =  [-5.84218628e+00 -8.66673261e-06  2.92110060e+00]\n",
      "current_iteration: 5 theta =  [-5.84220421e+00 -5.29307848e-06  2.92110666e+00]\n",
      "current_iteration: 6 theta =  [-5.84221515e+00 -3.23267183e-06  2.92111036e+00]\n",
      "current_iteration: 7 theta =  [-5.84222184e+00 -1.97430896e-06  2.92111262e+00]\n",
      "current_iteration: 8 theta =  [-5.84222592e+00 -1.20578186e-06  2.92111400e+00]\n",
      "current_iteration: 9 theta =  [-5.84222841e+00 -7.36414708e-07  2.92111484e+00]\n",
      "current_iteration: 10 theta =  [-5.84222994e+00 -4.49755218e-07  2.92111535e+00]\n",
      "current_iteration: 11 theta =  [-5.84223087e+00 -2.74681871e-07  2.92111567e+00]\n",
      "current_iteration: 12 theta =  [-5.84223143e+00 -1.67758217e-07  2.92111586e+00]\n",
      "current_iteration: 13 theta =  [-5.84223178e+00 -1.02456051e-07  2.92111598e+00]\n",
      "current_iteration: 14 theta =  [-5.84223199e+00 -6.25736426e-08  2.92111605e+00]\n",
      "current_iteration: 15 theta =  [-5.84223212e+00 -3.82160037e-08  2.92111609e+00]\n",
      "current_iteration: 16 theta =  [-5.84223220e+00 -2.33399056e-08  2.92111612e+00]\n",
      "current_iteration: 17 theta =  [-5.84223225e+00 -1.42545308e-08  2.92111614e+00]\n",
      "current_iteration: 18 theta =  [-5.84223228e+00 -8.70576125e-09  2.92111615e+00]\n",
      "current_iteration: 19 theta =  [-5.84223230e+00 -5.31692591e-09  2.92111615e+00]\n",
      "current_iteration: 20 theta =  [-5.84223231e+00 -3.24724017e-09  2.92111616e+00]\n",
      "current_iteration: 21 theta =  [-5.84223231e+00 -1.98320821e-09  2.92111616e+00]\n",
      "current_iteration: 22 theta =  [-5.84223232e+00 -1.21121767e-09  2.92111616e+00]\n",
      "current_iteration: 23 theta =  [-5.84223232e+00 -7.39734773e-10  2.92111616e+00]\n",
      "current_iteration: 24 theta =  [-5.84223232e+00 -4.51782790e-10  2.92111616e+00]\n",
      "current_iteration: 25 theta =  [-5.84223232e+00 -2.75919775e-10  2.92111616e+00]\n",
      "current_iteration: 26 theta =  [-5.84223232e+00 -1.68514602e-10  2.92111616e+00]\n",
      "current_iteration: 27 theta =  [-5.84223232e+00 -1.02917379e-10  2.92111616e+00]\n",
      "current_iteration: 28 theta =  [-5.84223232e+00 -6.28557973e-11  2.92111616e+00]\n",
      "current_iteration: 29 theta =  [-5.84223232e+00 -3.83876244e-11  2.92111616e+00]\n",
      "current_iteration: 30 theta =  [-5.84223232e+00 -2.34449331e-11  2.92111616e+00]\n",
      "current_iteration: 31 theta =  [-5.84223232e+00 -1.43187927e-11  2.92111616e+00]\n",
      "current_iteration: 32 theta =  [-5.84223232e+00 -8.74526553e-12  2.92111616e+00]\n",
      "current_iteration: 33 theta =  [-5.84223232e+00 -5.34133573e-12  2.92111616e+00]\n",
      "current_iteration: 34 theta =  [-5.84223232e+00 -3.26221251e-12  2.92111616e+00]\n",
      "current_iteration: 35 theta =  [-5.84223232e+00 -1.99185226e-12  2.92111616e+00]\n",
      "current_iteration: 36 theta =  [-5.84223232e+00 -1.21624017e-12  2.92111616e+00]\n",
      "current_iteration: 37 theta =  [-5.84223232e+00 -7.42899132e-13  2.92111616e+00]\n",
      "current_iteration: 38 theta =  [-5.84223232e+00 -4.54095114e-13  2.92111616e+00]\n",
      "current_iteration: 39 theta =  [-5.84223232e+00 -2.76446522e-13  2.92111616e+00]\n",
      "current_iteration: 40 theta =  [-5.84223232e+00 -1.69625937e-13  2.92111616e+00]\n",
      "current_iteration: 41 theta =  [-5.84223232e+00 -1.03407797e-13  2.92111616e+00]\n",
      "current_iteration: 42 theta =  [-5.84223232e+00 -6.32893997e-14  2.92111616e+00]\n",
      "current_iteration: 43 theta =  [-5.84223232e+00 -3.83525336e-14  2.92111616e+00]\n",
      "current_iteration: 44 theta =  [-5.84223232e+00 -2.38793958e-14  2.92111616e+00]\n",
      "current_iteration: 45 theta =  [-5.84223232e+00 -1.50216048e-14  2.92111616e+00]\n",
      "current_iteration: 46 theta =  [-5.84223232e+00 -8.58910670e-15  2.92111616e+00]\n",
      "current_iteration: 47 theta =  [-5.84223232e+00 -5.52053631e-15  2.92111616e+00]\n",
      "current_iteration: 48 theta =  [-5.84223232e+00 -3.91790105e-15  2.92111616e+00]\n",
      "current_iteration: 49 theta =  [-5.84223232e+00 -1.97502316e-15  2.92111616e+00]\n",
      "current_iteration: 50 theta =  [-5.84223232e+00 -8.10611285e-16  2.92111616e+00]\n",
      "current_iteration: 51 theta =  [-5.84223232e+00 -8.35416468e-16  2.92111616e+00]\n",
      "current_iteration: 52 theta =  [-5.84223232e+00  2.91496420e-16  2.92111616e+00]\n",
      "current_iteration: 53 theta =  [-5.84223232e+00 -9.85460891e-17  2.92111616e+00]\n",
      "current_iteration: 54 theta =  [-5.84223232e+00 -2.40800258e-16  2.92111616e+00]\n",
      "current_iteration: 55 theta =  [-5.84223232e+00 -4.11899095e-17  2.92111616e+00]\n",
      "current_iteration: 56 theta =  [-5.84223232e+00 -6.88540228e-17  2.92111616e+00]\n",
      "current_iteration: 57 theta =  [-5.84223232e+00 -5.56874668e-17  2.92111616e+00]\n",
      "current_iteration: 58 theta =  [-5.84223232e+00 -4.98511448e-17  2.92111616e+00]\n",
      "current_iteration: 59 theta =  [-5.84223232e+00 -4.72640859e-17  2.92111616e+00]\n",
      "current_iteration: 60 theta =  [-5.84223232e+00 -4.61173238e-17  2.92111616e+00]\n",
      "current_iteration: 61 theta =  [-5.84223232e+00 -4.56090000e-17  2.92111616e+00]\n",
      "current_iteration: 62 theta =  [-5.84223232e+00 -4.53836760e-17  2.92111616e+00]\n",
      "current_iteration: 63 theta =  [-5.84223232e+00 -4.52837969e-17  2.92111616e+00]\n",
      "current_iteration: 64 theta =  [-5.84223232e+00 -4.52395236e-17  2.92111616e+00]\n",
      "current_iteration: 65 theta =  [-5.84223232e+00 -4.52198987e-17  2.92111616e+00]\n",
      "current_iteration: 66 theta =  [-5.84223232e+00 -4.52111996e-17  2.92111616e+00]\n",
      "current_iteration: 67 theta =  [-5.84223232e+00 -4.52073435e-17  2.92111616e+00]\n",
      "current_iteration: 68 theta =  [-5.84223232e+00 -4.52056342e-17  2.92111616e+00]\n",
      "current_iteration: 69 theta =  [-5.84223232e+00 -4.52048766e-17  2.92111616e+00]\n",
      "current_iteration: 70 theta =  [-5.84223232e+00 -4.52045407e-17  2.92111616e+00]\n",
      "current_iteration: 71 theta =  [-5.84223232e+00 -4.52043919e-17  2.92111616e+00]\n",
      "current_iteration: 72 theta =  [-5.84223232e+00 -4.52043259e-17  2.92111616e+00]\n",
      "current_iteration: 73 theta =  [-5.84223232e+00 -4.52042966e-17  2.92111616e+00]\n",
      "current_iteration: 74 theta =  [-5.84223232e+00 -4.52042836e-17  2.92111616e+00]\n",
      "current_iteration: 75 theta =  [-5.84223232e+00 -4.52042779e-17  2.92111616e+00]\n",
      "current_iteration: 76 theta =  [-5.84223232e+00 -4.52042754e-17  2.92111616e+00]\n",
      "current_iteration: 77 theta =  [-5.84223232e+00 -4.52042742e-17  2.92111616e+00]\n",
      "current_iteration: 78 theta =  [-5.84223232e+00 -4.52042737e-17  2.92111616e+00]\n",
      "current_iteration: 79 theta =  [-5.84223232e+00 -4.52042735e-17  2.92111616e+00]\n",
      "current_iteration: 80 theta =  [-5.84223232e+00 -4.52042734e-17  2.92111616e+00]\n",
      "current_iteration: 81 theta =  [-5.84223232e+00 -4.52042734e-17  2.92111616e+00]\n",
      "current_iteration: 82 theta =  [-5.84223232e+00 -4.52042733e-17  2.92111616e+00]\n",
      "current_iteration: 83 theta =  [-5.84223232e+00 -4.52042733e-17  2.92111616e+00]\n",
      "current_iteration: 84 theta =  [-5.84223232e+00 -4.52042733e-17  2.92111616e+00]\n",
      "current_iteration: 85 theta =  [-5.84223232e+00 -4.52042733e-17  2.92111616e+00]\n",
      "current_iteration: 86 theta =  [-5.84223232e+00 -4.52042733e-17  2.92111616e+00]\n",
      "current_iteration: 87 theta =  [-5.84223232e+00 -4.52042733e-17  2.92111616e+00]\n",
      "current_iteration: 88 theta =  [-5.84223232e+00 -4.52042733e-17  2.92111616e+00]\n",
      "current_iteration: 89 theta =  [-5.84223232e+00 -4.52042733e-17  2.92111616e+00]\n",
      "current_iteration: 90 theta =  [-5.84223232e+00 -4.52042733e-17  2.92111616e+00]\n",
      "current_iteration: 91 theta =  [-5.84223232e+00 -4.52042733e-17  2.92111616e+00]\n",
      "current_iteration: 92 theta =  [-5.84223232e+00 -4.52042733e-17  2.92111616e+00]\n",
      "current_iteration: 93 theta =  [-5.84223232e+00 -4.52042733e-17  2.92111616e+00]\n",
      "current_iteration: 94 theta =  [-5.84223232e+00 -4.52042733e-17  2.92111616e+00]\n",
      "current_iteration: 95 theta =  [-5.84223232e+00 -4.52042733e-17  2.92111616e+00]\n",
      "current_iteration: 96 theta =  [-5.84223232e+00 -4.52042733e-17  2.92111616e+00]\n",
      "current_iteration: 97 theta =  [-5.84223232e+00 -4.52042733e-17  2.92111616e+00]\n",
      "current_iteration: 98 theta =  [-5.84223232e+00 -4.52042733e-17  2.92111616e+00]\n",
      "current_iteration: 99 theta =  [-5.84223232e+00 -4.52042733e-17  2.92111616e+00]\n"
     ]
    }
   ],
   "source": [
    "for i in range (1,100):\n",
    "    g = grad_loss(theta,X,y,reg = 0.07)\n",
    "    H = Hessian(theta,X,reg = 0.07)\n",
    "    theta_new = theta - np.matmul(np.linalg.inv(H),g)\n",
    "    theta = theta_new\n",
    "    print (\"current_iteration: %d\" %i, \"theta = \", theta)"
   ]
  },
  {
   "cell_type": "code",
   "execution_count": null,
   "metadata": {},
   "outputs": [],
   "source": []
  }
 ],
 "metadata": {
  "kernelspec": {
   "display_name": "Python 3",
   "language": "python",
   "name": "python3"
  },
  "language_info": {
   "codemirror_mode": {
    "name": "ipython",
    "version": 3
   },
   "file_extension": ".py",
   "mimetype": "text/x-python",
   "name": "python",
   "nbconvert_exporter": "python",
   "pygments_lexer": "ipython3",
   "version": "3.7.6"
  }
 },
 "nbformat": 4,
 "nbformat_minor": 4
}
