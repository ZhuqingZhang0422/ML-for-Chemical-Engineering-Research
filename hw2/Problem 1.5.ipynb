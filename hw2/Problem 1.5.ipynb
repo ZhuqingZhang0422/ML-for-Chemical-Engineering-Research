{
 "cells": [
  {
   "cell_type": "code",
   "execution_count": 54,
   "metadata": {},
   "outputs": [],
   "source": [
    "import numpy as np"
   ]
  },
  {
   "cell_type": "code",
   "execution_count": 55,
   "metadata": {},
   "outputs": [
    {
     "name": "stdout",
     "output_type": "stream",
     "text": [
      "(4, 3)\n",
      "(4, 1)\n"
     ]
    }
   ],
   "source": [
    "X = np.array([[1,0,3],[1,1,3],[1,0,1],[1,1,1]])\n",
    "theta = np.array([[0],[-2],[-1]])\n",
    "y = np.array([[1],[1],[0],[0]]) \n",
    "print(X.shape)\n",
    "print(y.shape)"
   ]
  },
  {
   "cell_type": "code",
   "execution_count": 56,
   "metadata": {},
   "outputs": [],
   "source": [
    "def sigmoid (z):\n",
    "    #sig = np.zeros(z.shape)\n",
    "    # Your code here\n",
    "    z = np.array(z)\n",
    "    sig = 1/ (1+ np.exp(-z))\n",
    "    # End your code\n",
    "    return sig"
   ]
  },
  {
   "cell_type": "code",
   "execution_count": 57,
   "metadata": {},
   "outputs": [],
   "source": [
    "def grad_loss(theta,X,y,reg):\n",
    "    m,dim = X.shape\n",
    "    grad = np.zeros((dim,))\n",
    "    penal_arr = np.vstack([[0],theta[1:]])\n",
    "    grad = 1/m * np.matmul(X.T,sigmoid(np.matmul(X,theta))-y) + reg/m*penal_arr\n",
    "    return grad"
   ]
  },
  {
   "cell_type": "code",
   "execution_count": 58,
   "metadata": {},
   "outputs": [
    {
     "data": {
      "text/plain": [
       "array([[-0.4073785 ],\n",
       "       [-0.27147032],\n",
       "       [-1.39781913]])"
      ]
     },
     "execution_count": 58,
     "metadata": {},
     "output_type": "execute_result"
    }
   ],
   "source": [
    "grad_loss(theta,X,y,0.07)"
   ]
  },
  {
   "cell_type": "code",
   "execution_count": 59,
   "metadata": {},
   "outputs": [],
   "source": [
    "def Hessian (theta,X,y,reg):\n",
    "    m,dim = X.shape\n",
    "    diag_num = sigmoid(np.matmul(X,theta))*(1-sigmoid(np.matmul(X,theta)))\n",
    "    S = np.diag(list(diag_num.reshape(-1)))\n",
    "    penal = reg * np.diag([1]*theta.shape[0])\n",
    "    H = 1/m * (np.matmul(np.matmul(X.T,S),X) + penal)\n",
    "    return H"
   ]
  },
  {
   "cell_type": "code",
   "execution_count": 60,
   "metadata": {},
   "outputs": [
    {
     "data": {
      "text/plain": [
       "(array([[-0.4073785 ],\n",
       "        [-0.27147032],\n",
       "        [-1.39781913]]),\n",
       " array([[0.09090333, 0.01295618, 0.09931569],\n",
       "        [0.01295618, 0.03045618, 0.01628021],\n",
       "        [0.09931569, 0.01628021, 0.19455276]]))"
      ]
     },
     "execution_count": 60,
     "metadata": {},
     "output_type": "execute_result"
    }
   ],
   "source": [
    "g = grad_loss(theta,X,y,reg = 0.07)\n",
    "H = Hessian(theta,X,y,reg = 0.07)\n",
    "g,H"
   ]
  },
  {
   "cell_type": "code",
   "execution_count": 47,
   "metadata": {},
   "outputs": [
    {
     "data": {
      "text/plain": [
       "array([[  3.02387137,   3.02387137,   1.14673921,   1.14673921],\n",
       "       [-12.94801773, -12.94801773,  -1.21496209,  -1.21496209],\n",
       "       [-10.21491844, -10.21491844,   0.04148751,   0.04148751]])"
      ]
     },
     "execution_count": 47,
     "metadata": {},
     "output_type": "execute_result"
    }
   ],
   "source": [
    "theta_first = np.matmul(np.linalg.inv(H),g)\n",
    "theta_first"
   ]
  },
  {
   "cell_type": "code",
   "execution_count": 123,
   "metadata": {},
   "outputs": [
    {
     "data": {
      "text/plain": [
       "array([[ 25.34037261,  -4.04610701, -12.59722563],\n",
       "       [ -4.04610701,  35.01757033,  -0.86481126],\n",
       "       [-12.59722563,  -0.86481126,  11.6430186 ]])"
      ]
     },
     "execution_count": 123,
     "metadata": {},
     "output_type": "execute_result"
    }
   ],
   "source": [
    "np.linalg.inv(H)"
   ]
  },
  {
   "cell_type": "code",
   "execution_count": 124,
   "metadata": {},
   "outputs": [
    {
     "data": {
      "text/plain": [
       "array([[ 13.28165708],\n",
       "       [-20.84094298],\n",
       "       [-54.76942471]])"
      ]
     },
     "execution_count": 124,
     "metadata": {},
     "output_type": "execute_result"
    }
   ],
   "source": [
    "theta = theta_first\n",
    "g = grad_loss(theta,X,y,reg = 0.07)\n",
    "H = Hessian(theta,X,y,reg = 0.07)\n",
    "theta_second = np.matmul(np.linalg.inv(H),g)\n",
    "theta_second"
   ]
  },
  {
   "cell_type": "code",
   "execution_count": 25,
   "metadata": {},
   "outputs": [
    {
     "name": "stdout",
     "output_type": "stream",
     "text": [
      "current_iteration: 0 theta =  [[  -2.        ]\n",
      " [ -22.54127002]\n",
      " [-123.40865401]]\n",
      "current_iteration: 1 theta =  [[  -2.        ]\n",
      " [ -23.54127002]\n",
      " [-129.40865401]]\n",
      "current_iteration: 2 theta =  [[  -2.        ]\n",
      " [ -24.54127002]\n",
      " [-135.40865401]]\n",
      "current_iteration: 3 theta =  [[  -2.        ]\n",
      " [ -25.54127002]\n",
      " [-141.40865401]]\n",
      "current_iteration: 4 theta =  [[  -2.        ]\n",
      " [ -26.54127002]\n",
      " [-147.40865401]]\n",
      "current_iteration: 5 theta =  [[  -2.        ]\n",
      " [ -27.54127002]\n",
      " [-153.40865401]]\n",
      "current_iteration: 6 theta =  [[  -2.        ]\n",
      " [ -28.54127002]\n",
      " [-159.40865401]]\n",
      "current_iteration: 7 theta =  [[  -2.        ]\n",
      " [ -29.54127002]\n",
      " [-165.40865401]]\n",
      "current_iteration: 8 theta =  [[  -2.        ]\n",
      " [ -30.54127002]\n",
      " [-171.40865401]]\n",
      "current_iteration: 9 theta =  [[  -2.        ]\n",
      " [ -31.54127002]\n",
      " [-177.40865401]]\n",
      "current_iteration: 10 theta =  [[  -2.        ]\n",
      " [ -32.54127002]\n",
      " [-183.40865401]]\n",
      "current_iteration: 11 theta =  [[  -2.        ]\n",
      " [ -33.54127002]\n",
      " [-189.40865401]]\n",
      "current_iteration: 12 theta =  [[  -2.        ]\n",
      " [ -34.54127002]\n",
      " [-195.40865401]]\n",
      "current_iteration: 13 theta =  [[  -2.        ]\n",
      " [ -35.54127002]\n",
      " [-201.40865401]]\n",
      "current_iteration: 14 theta =  [[  -2.        ]\n",
      " [ -36.54127002]\n",
      " [-207.40865401]]\n",
      "current_iteration: 15 theta =  [[  -2.        ]\n",
      " [ -37.54127002]\n",
      " [-213.40865401]]\n",
      "current_iteration: 16 theta =  [[  -2.        ]\n",
      " [ -38.54127002]\n",
      " [-219.40865401]]\n",
      "current_iteration: 17 theta =  [[  -2.        ]\n",
      " [ -39.54127002]\n",
      " [-225.40865401]]\n",
      "current_iteration: 18 theta =  [[  -2.        ]\n",
      " [ -40.54127002]\n",
      " [-231.40865401]]\n",
      "current_iteration: 19 theta =  [[  -2.        ]\n",
      " [ -41.54127002]\n",
      " [-237.40865401]]\n",
      "current_iteration: 20 theta =  [[  -2.        ]\n",
      " [ -42.54127002]\n",
      " [-243.40865401]]\n",
      "current_iteration: 21 theta =  [[  -2.        ]\n",
      " [ -43.54127002]\n",
      " [-249.40865401]]\n",
      "current_iteration: 22 theta =  [[  -2.        ]\n",
      " [ -44.54127002]\n",
      " [-255.40865401]]\n",
      "current_iteration: 23 theta =  [[  -2.        ]\n",
      " [ -45.54127002]\n",
      " [-261.40865401]]\n",
      "current_iteration: 24 theta =  [[  -2.        ]\n",
      " [ -46.54127002]\n",
      " [-267.40865401]]\n",
      "current_iteration: 25 theta =  [[  -2.        ]\n",
      " [ -47.54127002]\n",
      " [-273.40865401]]\n",
      "current_iteration: 26 theta =  [[  -2.        ]\n",
      " [ -48.54127002]\n",
      " [-279.40865401]]\n",
      "current_iteration: 27 theta =  [[  -2.        ]\n",
      " [ -49.54127002]\n",
      " [-285.40865401]]\n",
      "current_iteration: 28 theta =  [[  -2.        ]\n",
      " [ -50.54127002]\n",
      " [-291.40865401]]\n",
      "current_iteration: 29 theta =  [[  -2.        ]\n",
      " [ -51.54127002]\n",
      " [-297.40865401]]\n",
      "current_iteration: 30 theta =  [[  -2.        ]\n",
      " [ -52.54127002]\n",
      " [-303.40865401]]\n",
      "current_iteration: 31 theta =  [[  -2.        ]\n",
      " [ -53.54127002]\n",
      " [-309.40865401]]\n",
      "current_iteration: 32 theta =  [[  -2.        ]\n",
      " [ -54.54127002]\n",
      " [-315.40865401]]\n",
      "current_iteration: 33 theta =  [[  -2.        ]\n",
      " [ -55.54127002]\n",
      " [-321.40865401]]\n",
      "current_iteration: 34 theta =  [[  -2.        ]\n",
      " [ -56.54127002]\n",
      " [-327.40865401]]\n",
      "current_iteration: 35 theta =  [[  -2.        ]\n",
      " [ -57.54127002]\n",
      " [-333.40865401]]\n",
      "current_iteration: 36 theta =  [[  -2.        ]\n",
      " [ -58.54127002]\n",
      " [-339.40865401]]\n",
      "current_iteration: 37 theta =  [[  -2.        ]\n",
      " [ -59.54127002]\n",
      " [-345.40865401]]\n",
      "current_iteration: 38 theta =  [[  -2.        ]\n",
      " [ -60.54127002]\n",
      " [-351.40865401]]\n",
      "current_iteration: 39 theta =  [[  -2.        ]\n",
      " [ -61.54127002]\n",
      " [-357.40865401]]\n",
      "current_iteration: 40 theta =  [[  -2.        ]\n",
      " [ -62.54127002]\n",
      " [-363.40865401]]\n",
      "current_iteration: 41 theta =  [[  -2.        ]\n",
      " [ -63.54127002]\n",
      " [-369.40865401]]\n",
      "current_iteration: 42 theta =  [[  -2.        ]\n",
      " [ -64.54127002]\n",
      " [-375.40865401]]\n",
      "current_iteration: 43 theta =  [[  -2.        ]\n",
      " [ -65.54127002]\n",
      " [-381.40865401]]\n",
      "current_iteration: 44 theta =  [[  -2.        ]\n",
      " [ -66.54127002]\n",
      " [-387.40865401]]\n",
      "current_iteration: 45 theta =  [[  -2.        ]\n",
      " [ -67.54127002]\n",
      " [-393.40865401]]\n",
      "current_iteration: 46 theta =  [[  -2.        ]\n",
      " [ -68.54127002]\n",
      " [-399.40865401]]\n",
      "current_iteration: 47 theta =  [[  -2.        ]\n",
      " [ -69.54127002]\n",
      " [-405.40865401]]\n",
      "current_iteration: 48 theta =  [[  -2.        ]\n",
      " [ -70.54127002]\n",
      " [-411.40865401]]\n",
      "current_iteration: 49 theta =  [[  -2.        ]\n",
      " [ -71.54127002]\n",
      " [-417.40865401]]\n",
      "current_iteration: 50 theta =  [[  -2.        ]\n",
      " [ -72.54127002]\n",
      " [-423.40865401]]\n",
      "current_iteration: 51 theta =  [[  -2.        ]\n",
      " [ -73.54127002]\n",
      " [-429.40865401]]\n",
      "current_iteration: 52 theta =  [[  -2.        ]\n",
      " [ -74.54127002]\n",
      " [-435.40865401]]\n",
      "current_iteration: 53 theta =  [[  -2.        ]\n",
      " [ -75.54127002]\n",
      " [-441.40865401]]\n",
      "current_iteration: 54 theta =  [[  -2.        ]\n",
      " [ -76.54127002]\n",
      " [-447.40865401]]\n",
      "current_iteration: 55 theta =  [[  -2.        ]\n",
      " [ -77.54127002]\n",
      " [-453.40865401]]\n",
      "current_iteration: 56 theta =  [[  -2.        ]\n",
      " [ -78.54127002]\n",
      " [-459.40865401]]\n",
      "current_iteration: 57 theta =  [[  -2.        ]\n",
      " [ -79.54127002]\n",
      " [-465.40865401]]\n",
      "current_iteration: 58 theta =  [[  -2.        ]\n",
      " [ -80.54127002]\n",
      " [-471.40865401]]\n",
      "current_iteration: 59 theta =  [[  -2.        ]\n",
      " [ -81.54127002]\n",
      " [-477.40865401]]\n",
      "current_iteration: 60 theta =  [[  -2.        ]\n",
      " [ -82.54127002]\n",
      " [-483.40865401]]\n",
      "current_iteration: 61 theta =  [[  -2.        ]\n",
      " [ -83.54127002]\n",
      " [-489.40865401]]\n",
      "current_iteration: 62 theta =  [[  -2.        ]\n",
      " [ -84.54127002]\n",
      " [-495.40865401]]\n",
      "current_iteration: 63 theta =  [[  -2.        ]\n",
      " [ -85.54127002]\n",
      " [-501.40865401]]\n",
      "current_iteration: 64 theta =  [[  -2.        ]\n",
      " [ -86.54127002]\n",
      " [-507.40865401]]\n",
      "current_iteration: 65 theta =  [[  -2.        ]\n",
      " [ -87.54127002]\n",
      " [-513.40865401]]\n",
      "current_iteration: 66 theta =  [[  -2.        ]\n",
      " [ -88.54127002]\n",
      " [-519.40865401]]\n",
      "current_iteration: 67 theta =  [[  -2.        ]\n",
      " [ -89.54127002]\n",
      " [-525.40865401]]\n",
      "current_iteration: 68 theta =  [[  -2.        ]\n",
      " [ -90.54127002]\n",
      " [-531.40865401]]\n",
      "current_iteration: 69 theta =  [[  -2.        ]\n",
      " [ -91.54127002]\n",
      " [-537.40865401]]\n",
      "current_iteration: 70 theta =  [[  -2.        ]\n",
      " [ -92.54127002]\n",
      " [-543.40865401]]\n",
      "current_iteration: 71 theta =  [[  -2.        ]\n",
      " [ -93.54127002]\n",
      " [-549.40865401]]\n",
      "current_iteration: 72 theta =  [[  -2.        ]\n",
      " [ -94.54127002]\n",
      " [-555.40865401]]\n",
      "current_iteration: 73 theta =  [[  -2.        ]\n",
      " [ -95.54127002]\n",
      " [-561.40865401]]\n",
      "current_iteration: 74 theta =  [[  -2.        ]\n",
      " [ -96.54127002]\n",
      " [-567.40865401]]\n",
      "current_iteration: 75 theta =  [[  -2.        ]\n",
      " [ -97.54127002]\n",
      " [-573.40865401]]\n",
      "current_iteration: 76 theta =  [[  -2.        ]\n",
      " [ -98.54127002]\n",
      " [-579.40865401]]\n",
      "current_iteration: 77 theta =  [[  -2.        ]\n",
      " [ -99.54127002]\n",
      " [-585.40865401]]\n",
      "current_iteration: 78 theta =  [[  -2.        ]\n",
      " [-100.54127002]\n",
      " [-591.40865401]]\n",
      "current_iteration: 79 theta =  [[  -2.        ]\n",
      " [-101.54127002]\n",
      " [-597.40865401]]\n",
      "current_iteration: 80 theta =  [[  -2.        ]\n",
      " [-102.54127002]\n",
      " [-603.40865401]]\n",
      "current_iteration: 81 theta =  [[  -2.        ]\n",
      " [-103.54127002]\n",
      " [-609.40865401]]\n",
      "current_iteration: 82 theta =  [[  -2.        ]\n",
      " [-104.54127002]\n",
      " [-615.40865401]]\n",
      "current_iteration: 83 theta =  [[  -2.        ]\n",
      " [-105.54127002]\n",
      " [-621.40865401]]\n",
      "current_iteration: 84 theta =  [[  -2.        ]\n",
      " [-106.54127002]\n",
      " [-627.40865401]]\n",
      "current_iteration: 85 theta =  [[  -2.        ]\n",
      " [-107.54127002]\n",
      " [-633.40865401]]\n",
      "current_iteration: 86 theta =  [[  -2.        ]\n",
      " [-108.54127002]\n",
      " [-639.40865401]]\n",
      "current_iteration: 87 theta =  [[  -2.        ]\n",
      " [-109.54127002]\n",
      " [-645.40865401]]\n",
      "current_iteration: 88 theta =  [[  -2.        ]\n",
      " [-110.54127002]\n",
      " [-651.40865401]]\n",
      "current_iteration: 89 theta =  [[  -2.        ]\n",
      " [-111.54127002]\n",
      " [-657.40865401]]\n",
      "current_iteration: 90 theta =  [[  -2.        ]\n",
      " [-112.54127002]\n",
      " [-663.40865401]]\n",
      "current_iteration: 91 theta =  [[  -2.        ]\n",
      " [-113.54127002]\n",
      " [-669.40865401]]\n",
      "current_iteration: 92 theta =  [[  -2.        ]\n",
      " [-114.54127002]\n",
      " [-675.40865401]]\n",
      "current_iteration: 93 theta =  [[  -2.        ]\n",
      " [-115.54127002]\n",
      " [-681.40865401]]\n",
      "current_iteration: 94 theta =  [[  -2.        ]\n",
      " [-116.54127002]\n",
      " [-687.40865401]]\n",
      "current_iteration: 95 theta =  [[  -2.        ]\n",
      " [-117.54127002]\n",
      " [-693.40865401]]\n",
      "current_iteration: 96 theta =  [[  -2.        ]\n",
      " [-118.54127002]\n",
      " [-699.40865401]]\n",
      "current_iteration: 97 theta =  [[  -2.        ]\n",
      " [-119.54127002]\n",
      " [-705.40865401]]\n",
      "current_iteration: 98 theta =  [[  -2.        ]\n",
      " [-120.54127002]\n",
      " [-711.40865401]]\n",
      "current_iteration: 99 theta =  [[  -2.        ]\n",
      " [-121.54127002]\n",
      " [-717.40865401]]\n"
     ]
    },
    {
     "name": "stderr",
     "output_type": "stream",
     "text": [
      "/opt/anaconda3/lib/python3.7/site-packages/ipykernel_launcher.py:5: RuntimeWarning: overflow encountered in exp\n",
      "  \"\"\"\n"
     ]
    }
   ],
   "source": [
    "for i in range (100):\n",
    "    g = grad_loss(theta,X,y,reg = 1)\n",
    "    H = Hessian(theta,X,y,reg = 1)\n",
    "    theta = np.matmul(np.linalg.inv(H),g)\n",
    "    print (\"current_iteration: %d\" %i, \"theta = \", theta)"
   ]
  },
  {
   "cell_type": "code",
   "execution_count": 61,
   "metadata": {},
   "outputs": [
    {
     "name": "stdout",
     "output_type": "stream",
     "text": [
      "(4, 3)\n",
      "(4,)\n",
      "[ 0.01794426 -0.00519927 -0.15254012]\n",
      "[[0.13584853 0.12455436 0.23049443]\n",
      " [0.12455436 0.14205436 0.19661193]\n",
      " [0.23049443 0.19661193 0.61067732]]\n"
     ]
    },
    {
     "data": {
      "text/plain": [
       "\"\\nprint('initial theta:')\\nprint(theta)\\n\\nfor _ in range(100):\\n    theta-= np.dot(np.linalg.inv(hessian(X,theta,lam)),de_loss(X,y, theta,lam))\\n    print('iteration', str(_+1))\\n    print(theta)\\n\""
      ]
     },
     "execution_count": 61,
     "metadata": {},
     "output_type": "execute_result"
    }
   ],
   "source": [
    "def htheta_matrix(theta,X):\n",
    "    # the sigmoid function\n",
    "    return 1/(1+np.exp(-1*np.dot(X,theta)))\n",
    "\n",
    "\n",
    "def de_loss(X,y,theta,lam):\n",
    "    m=X.shape[0]\n",
    "    return  -1/m *np.dot(X.T,(y-htheta_matrix(theta,X))) +lam/m*np.hstack((0,theta[1:])) # the first is not penalized\n",
    "\n",
    "\n",
    "def hessian(X,theta,lam):\n",
    "    m=X.shape[0]\n",
    "    n=X.shape[1]\n",
    "    h_x=htheta_matrix(theta,X)\n",
    "    S=np.diag(np.multiply(h_x,(1-h_x)))\n",
    "    I=np.diag(np.hstack((0,np.ones(n-1)))) # need to double check\n",
    "    return 1/m*(X.T.dot(np.dot(S,X))+lam*I)\n",
    "\n",
    "X = [[1,0,3], [1,1,3], [1,1,0],[1,1,1]]\n",
    "X = np.asarray(X)\n",
    "y = np.array([1,1,0,0])\n",
    "\n",
    "print(X.shape)\n",
    "print(y.shape)\n",
    "\n",
    "theta= np.array([0.0,-2.0,1.0])\n",
    "\n",
    "lam=0.07\n",
    "print(de_loss(X,y,theta,lam))\n",
    "print(hessian(X,theta,lam))\n",
    "\n",
    "'''\n",
    "print('initial theta:')\n",
    "print(theta)\n",
    "\n",
    "for _ in range(100):\n",
    "    theta-= np.dot(np.linalg.inv(hessian(X,theta,lam)),de_loss(X,y, theta,lam))\n",
    "    print('iteration', str(_+1))\n",
    "    print(theta)\n",
    "'''"
   ]
  },
  {
   "cell_type": "code",
   "execution_count": 38,
   "metadata": {},
   "outputs": [
    {
     "data": {
      "text/plain": [
       "array([ 0.01794426, -0.00519927, -0.15254012])"
      ]
     },
     "execution_count": 38,
     "metadata": {},
     "output_type": "execute_result"
    }
   ],
   "source": [
    "X = [[1,0,3], [1,1,3], [1,1,0],[1,1,1]]\n",
    "X = np.asarray(X)\n",
    "y = np.array([1,1,0,0])\n",
    "de_loss(X,y,theta,0.07)"
   ]
  },
  {
   "cell_type": "code",
   "execution_count": null,
   "metadata": {},
   "outputs": [],
   "source": []
  }
 ],
 "metadata": {
  "kernelspec": {
   "display_name": "Python 3",
   "language": "python",
   "name": "python3"
  },
  "language_info": {
   "codemirror_mode": {
    "name": "ipython",
    "version": 3
   },
   "file_extension": ".py",
   "mimetype": "text/x-python",
   "name": "python",
   "nbconvert_exporter": "python",
   "pygments_lexer": "ipython3",
   "version": "3.7.6"
  }
 },
 "nbformat": 4,
 "nbformat_minor": 4
}
