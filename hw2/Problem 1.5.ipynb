{
 "cells": [
  {
   "cell_type": "code",
   "execution_count": 116,
   "metadata": {},
   "outputs": [],
   "source": [
    "import numpy as np"
   ]
  },
  {
   "cell_type": "code",
   "execution_count": 117,
   "metadata": {},
   "outputs": [],
   "source": [
    "X = np.array([[1,0,3],[1,1,3],[1,0,1],[1,1,1]])\n",
    "theta = np.array([[0],[-2],[-1]])\n",
    "y = np.array([[1],[1],[0],[0]]) "
   ]
  },
  {
   "cell_type": "code",
   "execution_count": 118,
   "metadata": {},
   "outputs": [],
   "source": [
    "def sigmoid (z):\n",
    "    #sig = np.zeros(z.shape)\n",
    "    # Your code here\n",
    "    z = np.array(z)\n",
    "    sig = 1/ (1+ np.exp(-z))\n",
    "    # End your code\n",
    "    return sig"
   ]
  },
  {
   "cell_type": "code",
   "execution_count": 119,
   "metadata": {},
   "outputs": [],
   "source": [
    "def grad_loss(theta,X,y,reg):\n",
    "    m,dim = X.shape\n",
    "    grad = np.zeros((dim,))\n",
    "    penal_arr = np.vstack([[0],theta[1:]])\n",
    "    grad = 1/m * np.matmul(X.T,sigmoid(np.matmul(X,theta))-y) + reg/m*penal_arr\n",
    "    return grad"
   ]
  },
  {
   "cell_type": "code",
   "execution_count": 120,
   "metadata": {},
   "outputs": [],
   "source": [
    "def Hessian (theta,X,y,reg):\n",
    "    m,dim = X.shape\n",
    "    diag_num = sigmoid(np.matmul(X,theta))*(1-sigmoid(np.matmul(X,theta)))\n",
    "    S = np.diag(list(diag_num.reshape(-1)))\n",
    "    penal = reg * np.diag([1]*theta.shape[0])\n",
    "    H = 1/m * (np.matmul(np.matmul(X.T,S),X) + penal)\n",
    "    return H"
   ]
  },
  {
   "cell_type": "code",
   "execution_count": 121,
   "metadata": {},
   "outputs": [],
   "source": [
    "g = grad_loss(theta,X,y,reg = 0.07)\n",
    "H = Hessian(theta,X,y,reg = 0.07)"
   ]
  },
  {
   "cell_type": "code",
   "execution_count": 122,
   "metadata": {},
   "outputs": [
    {
     "data": {
      "text/plain": [
       "array([[  8.38391811],\n",
       "       [ -6.64908428],\n",
       "       [-10.90822476]])"
      ]
     },
     "execution_count": 122,
     "metadata": {},
     "output_type": "execute_result"
    }
   ],
   "source": [
    "theta_first = np.matmul(np.linalg.inv(H),g)\n",
    "theta_first"
   ]
  },
  {
   "cell_type": "code",
   "execution_count": 123,
   "metadata": {},
   "outputs": [
    {
     "data": {
      "text/plain": [
       "array([[ 25.34037261,  -4.04610701, -12.59722563],\n",
       "       [ -4.04610701,  35.01757033,  -0.86481126],\n",
       "       [-12.59722563,  -0.86481126,  11.6430186 ]])"
      ]
     },
     "execution_count": 123,
     "metadata": {},
     "output_type": "execute_result"
    }
   ],
   "source": [
    "np.linalg.inv(H)"
   ]
  },
  {
   "cell_type": "code",
   "execution_count": 124,
   "metadata": {},
   "outputs": [
    {
     "data": {
      "text/plain": [
       "array([[ 13.28165708],\n",
       "       [-20.84094298],\n",
       "       [-54.76942471]])"
      ]
     },
     "execution_count": 124,
     "metadata": {},
     "output_type": "execute_result"
    }
   ],
   "source": [
    "theta = theta_first\n",
    "g = grad_loss(theta,X,y,reg = 0.07)\n",
    "H = Hessian(theta,X,y,reg = 0.07)\n",
    "theta_second = np.matmul(np.linalg.inv(H),g)\n",
    "theta_second"
   ]
  },
  {
   "cell_type": "code",
   "execution_count": 127,
   "metadata": {},
   "outputs": [
    {
     "name": "stdout",
     "output_type": "stream",
     "text": [
      "current_iteration: 0 theta =  [[   -2.        ]\n",
      " [ -250.41237155]\n",
      " [-1432.19799613]]\n",
      "current_iteration: 1 theta =  [[   -2.        ]\n",
      " [ -251.41237155]\n",
      " [-1438.19799613]]\n",
      "current_iteration: 2 theta =  [[   -2.        ]\n",
      " [ -252.41237155]\n",
      " [-1444.19799613]]\n",
      "current_iteration: 3 theta =  [[   -2.        ]\n",
      " [ -253.41237155]\n",
      " [-1450.19799613]]\n",
      "current_iteration: 4 theta =  [[   -2.        ]\n",
      " [ -254.41237155]\n",
      " [-1456.19799613]]\n",
      "current_iteration: 5 theta =  [[   -2.        ]\n",
      " [ -255.41237155]\n",
      " [-1462.19799613]]\n",
      "current_iteration: 6 theta =  [[   -2.        ]\n",
      " [ -256.41237155]\n",
      " [-1468.19799613]]\n",
      "current_iteration: 7 theta =  [[   -2.        ]\n",
      " [ -257.41237155]\n",
      " [-1474.19799613]]\n",
      "current_iteration: 8 theta =  [[   -2.        ]\n",
      " [ -258.41237155]\n",
      " [-1480.19799613]]\n",
      "current_iteration: 9 theta =  [[   -2.        ]\n",
      " [ -259.41237155]\n",
      " [-1486.19799613]]\n"
     ]
    },
    {
     "name": "stderr",
     "output_type": "stream",
     "text": [
      "/opt/anaconda3/lib/python3.7/site-packages/ipykernel_launcher.py:5: RuntimeWarning: overflow encountered in exp\n",
      "  \"\"\"\n"
     ]
    }
   ],
   "source": [
    "for i in range (10):\n",
    "    g = grad_loss(theta,X,y,reg = 1)\n",
    "    H = Hessian(theta,X,y,reg = 1)\n",
    "    theta = np.matmul(np.linalg.inv(H),g)\n",
    "    print (\"current_iteration: %d\" %i, \"theta = \", theta)"
   ]
  },
  {
   "cell_type": "code",
   "execution_count": null,
   "metadata": {},
   "outputs": [],
   "source": []
  }
 ],
 "metadata": {
  "kernelspec": {
   "display_name": "Python 3",
   "language": "python",
   "name": "python3"
  },
  "language_info": {
   "codemirror_mode": {
    "name": "ipython",
    "version": 3
   },
   "file_extension": ".py",
   "mimetype": "text/x-python",
   "name": "python",
   "nbconvert_exporter": "python",
   "pygments_lexer": "ipython3",
   "version": "3.7.6"
  }
 },
 "nbformat": 4,
 "nbformat_minor": 4
}
