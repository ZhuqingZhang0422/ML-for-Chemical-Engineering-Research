{
 "cells": [
  {
   "cell_type": "markdown",
   "id": "relevant-mississippi",
   "metadata": {},
   "source": [
    "# Machine Learning Basics for Chemical Engineering Research\n",
    "\n"
   ]
  },
  {
   "cell_type": "code",
   "execution_count": null,
   "id": "changing-union",
   "metadata": {},
   "outputs": [],
   "source": []
  },
  {
   "cell_type": "markdown",
   "id": "wound-exercise",
   "metadata": {},
   "source": [
    "## Problem statement\n",
    "Fraud is a problem for any bank. Fraud can take many forms, whether it is someone stealing a single credit card, to large batches of stolen credit card numbers being used on the web, or even a mass compromise of credit card numbers stolen from a merchant via tools like credit card skimming devices. In this notebook, we provide analysis and insights for Fraud action in credit card transactions. For the challenge, we will use credit card transaction data.\n",
    "<br>\n",
    "\n",
    "By following the table of contents, we will find a general description of collected data, detailed illustration and analysis of the dataset, and a predictive model to determine whether a given transaction will be fraudulent or not.\n",
    "\n",
    "### Table of Contents\n",
    "\n",
    "I.    [Programmatically load dataset](#Load)<br>\n",
    "II.   [Plot and general analysis of dataset](#Plot)<br>\n",
    "III.  [Data Wrangling - Duplicate Transactions](#Clean)<br>\n",
    "IV.   [Fraud detection model](#Model)<br>\n",
    "V.   [Future Prospective](#Future)<br>\n",
    "VI.   [Reference](#Ref)\n",
    "\n",
    "### Bullet points and logic path\n",
    "**Question 1: Load</font>**\n",
    "<br>`a.` Dataset is downloaded and parsed into **pandas DataFrame** through git\n",
    "<br>`b.` **Shape** of the dataset and **Type**, **Count** of individual features is provided, Features are categories into four groups according to data type \n",
    "<br>`c.` **Num of Null**, **Min**, **Max**, **UniqueValue** and **numerical statistics** of individual features is sumerized\n",
    "<br>`d.` Empty columns **echoBuffer**, **merchantCity**, **merchantState**, **merchantZip**, **posOnPremises**, **recurringAuthInd** are removed\n",
    "\n",
    "**Question 2: Plot</font>**\n",
    "<br>`a.` **Histogram plot** and **box chart** of the processed amounts is provided\n",
    "<br>`b.` **Histogram** of Fraud vs normal transactions are compared\n",
    "<br>`c.` Majority numeric features follows a **asymmetric distribution patterns**, usually **right skew**\n",
    "<br>`d.` **Correlation heat map** of features is provided\n",
    "<br>`e.` **Hypothesis 1:** Fraud transaction are more likely to appear on bigger amount.\n",
    "<br>`f.` **Hypothesis 2:** If cardCVV is not equal to entered CVV, the corresponding transaction is highly possible to be a Fraud.\n",
    "<br>`g.` **Hypothesis 3:** Features are not independent between each other (currentbalance, creditlimit, avaiablemoney)\n",
    "\n",
    "**Question 3: Data Wrangling</font>**\n",
    "<br>`a.`The dataset contains duplicate items other than Reverse transactions and multi-swipe transactions\n",
    "<br>`b.`There are **20303** record of reversal transactions, with total amount of **2821792** dollars\n",
    "<br>`c.`There are **2477** record of multi-swipe transactions, with total amount of **389751** dollars (**repeat transaction with time sequence less then 2mins is treated as multi-swipe**)\n",
    "<br>`d.`Fraud transactions are more common on **REVERSE** transactions \n",
    "<br>`e.`**Time**, **merchantName** features are reshaped before modeling\n",
    "\n",
    "**Question 4: Model</font>**\n",
    "<br>`a.` Models are designed to emphasize more on **Sensitivity**\n",
    "<br>`b.` **Clustering** was tried, but **failed** due to **curse of dimensions**\n",
    "<br>`c.` **Positively skewed distribution** pattern of specific features are emphasized\n",
    "<br>`d.` Simple Logistic Regression Model is built with AUC 0.510732\n",
    "<br>`e.` **Logistic Regression Model** is optimized with **SMOT** technique to deal with **imbalance distribution**\n",
    "<br>\n",
    "<br> **Performance of optimized model:**\n",
    "- Accuracy: 0.98\n",
    "- Precision: 0.13\n",
    "- Recall: 0.071\n",
    "- Average precision-recall score: 0.06\n",
    "- **AUC** : 0.75\n",
    "\n",
    "**Future Prospective**\n",
    "<br>`a.` Multi-normal distribution pattern of **creditLimit** feature should be reshaped, and modified for further improvement \n",
    "<br>`b.` Explore other technique to deal with **asymmetric distribution features**, such as **square root** transformation\n",
    "<br>`c.` Reshape the dataset and use **MySQL** to check for multi-swipe with higher efficiency"
   ]
  },
  {
   "cell_type": "code",
   "execution_count": null,
   "id": "lovely-couple",
   "metadata": {},
   "outputs": [],
   "source": [
    "import pandas as pd\n",
    "import os  \n",
    "import numpy as np\n",
    "from zipfile import ZipFile\n",
    "import matplotlib.pyplot as plt\n",
    "import matplotlib.style as style\n",
    "import math\n",
    "import seaborn as sns"
   ]
  }
 ],
 "metadata": {
  "kernelspec": {
   "display_name": "Python 3",
   "language": "python",
   "name": "python3"
  },
  "language_info": {
   "codemirror_mode": {
    "name": "ipython",
    "version": 3
   },
   "file_extension": ".py",
   "mimetype": "text/x-python",
   "name": "python",
   "nbconvert_exporter": "python",
   "pygments_lexer": "ipython3",
   "version": "3.8.5"
  }
 },
 "nbformat": 4,
 "nbformat_minor": 5
}
