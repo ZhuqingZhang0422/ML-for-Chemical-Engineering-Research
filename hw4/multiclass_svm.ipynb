{
 "cells": [
  {
   "cell_type": "markdown",
   "metadata": {},
   "source": [
    "# Multiclass Support Vector Machines\n",
    "In this exercise you will:\n",
    "- implement a fully-vectorized loss function for the multi-class SVM\n",
    "- implement the fully-vectorized expression for its analytic gradient\n",
    "- check your implementation using numerical gradient\n",
    "- use a validation set to tune the learning rate and regularization strength\n",
    "- optimize the loss function with SGD\n",
    "- visualize the final learned parameters"
   ]
  },
  {
   "cell_type": "code",
   "execution_count": 1,
   "metadata": {},
   "outputs": [],
   "source": [
    "# Run some setup code for this notebook.\n",
    "import random\n",
    "import numpy as np\n",
    "from data_utils import load_CIFAR10\n",
    "import matplotlib.pyplot as plt\n",
    "\n",
    "# This is a bit of magic to make matplotlib figures appear inline in the\n",
    "# notebook rather than in a new window.\n",
    "%matplotlib inline\n",
    "plt.rcParams['figure.figsize'] = (10.0, 8.0) # set default size of plots\n",
    "plt.rcParams['image.interpolation'] = 'nearest'\n",
    "plt.rcParams['image.cmap'] = 'gray'\n",
    "\n",
    "# Some more magic so that the notebook will reload external python modules;\n",
    "# see http://stackoverflow.com/questions/1907993/autoreload-of-modules-in-ipython\n",
    "%load_ext autoreload\n",
    "%autoreload 2"
   ]
  },
  {
   "cell_type": "markdown",
   "metadata": {},
   "source": [
    "## CIFAR-10 Data Loading and Preprocessing\n",
    "Open up a terminal window and navigate to the datasets folder inside the hw3 folder. Run the get_datasets.sh script. On my Mac, I just type in ./get_datasets.sh at the shell prompt. A new folder called cifar_10_batches_py will be created and it will contain 50000 labeled images for training and  10000 labeled images for testing. The function further partitions the  50000 training images into a train set and a validation set for selection of hyperparameters. We have provided a function to read this data in **data_utils.py**. Each image is a  32×32\n",
    "array of RGB triples. It is preprocessed by subtracting the mean image from all images. We flatten each image into a 1-dimensional array of size 3072 (i.e.,  32×32×3). Then a 1 is appended to the front of that vector to handle the intercept term. So the training set is a numpy matrix of size  49000×3073, the validation set is a matrix of size  1000×3073 and the set-aside test set is of size  10000×3073. We also have a random sample of 500 images from the training data to serve as a development set or dev set to test our gradient and loss function implementations."
   ]
  },
  {
   "cell_type": "code",
   "execution_count": 2,
   "metadata": {},
   "outputs": [
    {
     "name": "stdout",
     "output_type": "stream",
     "text": [
      "Train data shape: 49000,32,32,3\n",
      "Train labels shape: 49000\n",
      "Validation data shape: 1000,32,32,3\n",
      "Validation labels shape: 1000\n",
      "Test data shape: 10000,32,32,3\n",
      "Test labels shape: 10000\n",
      "Training data shape: (49000, 3072)\n",
      "Validation data shape: (1000, 3072)\n",
      "Test data shape: (10000, 3072)\n",
      "dev data shape: (500, 3072)\n",
      "Training data shape with bias term: (49000, 3073) \n",
      "Validation data shape with bias term: (1000, 3073)\n",
      "Test data shape with bias term: (10000, 3073)\n",
      "Devset data shape with bias term: (500, 3073)\n"
     ]
    }
   ],
   "source": [
    "import data_utils\n",
    "\n",
    "# Get the CIFAR-10 data broken up into train, validation and test sets\n",
    "\n",
    "X_train, y_train, X_val, y_val, X_dev, y_dev, X_test, y_test = data_utils.get_CIFAR10_data()"
   ]
  },
  {
   "cell_type": "markdown",
   "metadata": {},
   "source": [
    "## SVM Classifier\n",
    "Your code for this section will all be written inside **linear_svm.py**.\n",
    "You will need to write the function **naive_loss_svm** which uses for loops to evaluate the multiclass SVM loss function."
   ]
  },
  {
   "cell_type": "code",
   "execution_count": 3,
   "metadata": {},
   "outputs": [
    {
     "name": "stdout",
     "output_type": "stream",
     "text": [
      "========== START GRADING\n",
      "----- START PART 3.1.A\n",
      "----- END PART 3.1.A [took 0:00:00.010585, 5/5 points]\n",
      "----- START PART 3.1.C\n",
      "----- END PART 3.1.C [took 0:00:00.000288, 3/3 points]\n",
      "----- START PART 4.A\n",
      "Exception thrown: <class 'NameError'> -- name 'xrange' is not defined\n",
      "  File \"/Users/zhuqing/Documents/Github/Statistic-Machine-Learning/hw4/grader.py\", line 145, in <lambda>\n",
      "    grader.addPart(\"4.A\", lambda: prob4_ab(svm_submitted.svm_loss_naive), 5)\n",
      "\n",
      "  File \"/Users/zhuqing/Documents/Github/Statistic-Machine-Learning/hw4/grader.py\", line 118, in prob4_ab\n",
      "    loss1, grad1 = structured_svm(theta, multi_X, multi_y, 0.)\n",
      "\n",
      "  File \"/Users/zhuqing/Documents/Github/Statistic-Machine-Learning/hw4/linear_svm.py\", line 79, in svm_loss_naive\n",
      "    for i in xrange(m):\n",
      "\n",
      "----- END PART 4.A [took 0:00:00.042598, 0/5 points]\n",
      "----- START PART 4.B\n",
      "Expected '12.23053697', but got '41670.165386423614'\n",
      "Expected '[[3.98942000e-03 1.29517000e-03 4.43184841e-05 1.59837411e-07]\n",
      " [3.98942000e-03 1.59612000e-03 1.02220000e-04 1.04791312e-06]\n",
      " [3.98942000e-03 1.92527000e-03 2.16390000e-04 5.66442936e-06]\n",
      " [3.98942000e-03 2.27303000e-03 4.20420000e-04 2.52447508e-05]\n",
      " [3.98942000e-03 2.62667000e-03 7.49700000e-04 9.27619886e-05]\n",
      " [3.98942000e-03 2.97093000e-03 1.22698000e-03 2.81030000e-04]\n",
      " [3.98942000e-03 3.28902000e-03 1.84304000e-03 7.01970000e-04]\n",
      " [3.98942000e-03 3.56392000e-03 2.54086000e-03 1.44567000e-03]\n",
      " [3.98942000e-03 3.77986000e-03 3.21495000e-03 2.45474000e-03]\n",
      " [3.98942000e-03 3.92384000e-03 3.73350000e-03 3.43657000e-03]]', but got '[[ 1.39844584e+01 -8.16297224e+00 -6.59567592e+00 -3.60885139e+01]\n",
      " [ 2.96429547e+01  2.38030204e-01 -1.80626767e+01 -3.99490151e+01]\n",
      " [ 3.02829367e+01 -6.76862449e+00 -7.73379184e+00 -4.11256878e+01]\n",
      " [ 1.03674473e+01 -4.61496490e+00  2.51832163e+00 -2.58875176e+01]\n",
      " [ 1.20857657e+01  2.71128229e+01 -7.29427429e+00 -1.88714114e+01]\n",
      " [-9.01488612e+00  2.99992408e+00 -2.84997469e+00 -1.02149620e+01]\n",
      " [ 5.83588204e+00  1.09327453e+01  3.59084898e-01 -1.37013727e+01]\n",
      " [ 6.89924327e+00 -4.14949551e+00 -1.01681633e-02 -1.74402522e+01]\n",
      " [ 9.16624816e+00  7.32501224e-01  3.50249959e+00 -2.21912506e+01]\n",
      " [ 1.29098857e+01  9.53674286e+00 -1.36891429e+00 -6.25337143e+00]]'\n",
      "Expected '20847.31323018', but got '42281.692235089875'\n",
      "Expected '[[ 6.99621860e+00 -4.08019094e+00 -3.29779364e+00 -1.80442568e+01]\n",
      " [ 1.48254668e+01  1.20611220e-01 -9.03123614e+00 -1.99745065e+01]\n",
      " [ 1.51454578e+01 -3.38238696e+00 -3.86667952e+00 -2.05628382e+01]\n",
      " [ 5.18771309e+00 -2.30520941e+00  1.25958124e+00 -1.29437335e+01]\n",
      " [ 6.04687227e+00  1.35590381e+01 -3.64638743e+00 -9.43561295e+00]\n",
      " [-4.50345363e+00  1.50293297e+00 -1.42376035e+00 -5.10719999e+00]\n",
      " [ 2.92193044e+00  5.46966167e+00  1.81385490e-01 -6.84998435e+00]\n",
      " [ 3.45361105e+00 -2.07118383e+00 -2.54321000e-03 -8.71868044e+00]\n",
      " [ 4.58711350e+00  3.70030470e-01  1.75446475e+00 -1.10931706e+01]\n",
      " [ 6.45893227e+00  4.77229527e+00 -6.80723630e-01 -3.12324914e+00]]', but got '[[ 1.39844584e+01 -8.16297224e+00 -6.59567592e+00 -3.60885139e+01]\n",
      " [ 2.96429547e+01  2.38030204e-01 -1.80626767e+01 -3.99490151e+01]\n",
      " [ 3.02829367e+01 -6.76862449e+00 -7.73379184e+00 -4.11256878e+01]\n",
      " [ 1.03674473e+01 -4.61496490e+00  2.51832163e+00 -2.58875176e+01]\n",
      " [ 1.20857657e+01  2.71128229e+01 -7.29427429e+00 -1.88714114e+01]\n",
      " [-9.01488612e+00  2.99992408e+00 -2.84997469e+00 -1.02149620e+01]\n",
      " [ 5.83588204e+00  1.09327453e+01  3.59084898e-01 -1.37013727e+01]\n",
      " [ 6.89924327e+00 -4.14949551e+00 -1.01681633e-02 -1.74402522e+01]\n",
      " [ 9.16624816e+00  7.32501224e-01  3.50249959e+00 -2.21912506e+01]\n",
      " [ 1.29098857e+01  9.53674286e+00 -1.36891429e+00 -6.25337143e+00]]'\n",
      "Expected '41682.39592339', but got '42893.21908375614'\n",
      "Expected '[[ 1.39884478e+01 -8.16167706e+00 -6.59563159e+00 -3.60885137e+01]\n",
      " [ 2.96469441e+01  2.39626330e-01 -1.80625745e+01 -3.99490141e+01]\n",
      " [ 3.02869261e+01 -6.76669921e+00 -7.73357544e+00 -4.11256821e+01]\n",
      " [ 1.03714368e+01 -4.61269186e+00  2.51874206e+00 -2.58874923e+01]\n",
      " [ 1.20897551e+01  2.71154495e+01 -7.29352457e+00 -1.88713187e+01]\n",
      " [-9.01089669e+00  3.00289501e+00 -2.84874770e+00 -1.02146810e+01]\n",
      " [ 5.83987146e+00  1.09360343e+01  3.60927940e-01 -1.37006707e+01]\n",
      " [ 6.90323268e+00 -4.14593159e+00 -7.62729000e-03 -1.74388066e+01]\n",
      " [ 9.17023758e+00  7.36281080e-01  3.50571454e+00 -2.21887959e+01]\n",
      " [ 1.29138751e+01  9.54066670e+00 -1.36518077e+00 -6.24993485e+00]]', but got '[[ 1.39844584e+01 -8.16297224e+00 -6.59567592e+00 -3.60885139e+01]\n",
      " [ 2.96429547e+01  2.38030204e-01 -1.80626767e+01 -3.99490151e+01]\n",
      " [ 3.02829367e+01 -6.76862449e+00 -7.73379184e+00 -4.11256878e+01]\n",
      " [ 1.03674473e+01 -4.61496490e+00  2.51832163e+00 -2.58875176e+01]\n",
      " [ 1.20857657e+01  2.71128229e+01 -7.29427429e+00 -1.88714114e+01]\n",
      " [-9.01488612e+00  2.99992408e+00 -2.84997469e+00 -1.02149620e+01]\n",
      " [ 5.83588204e+00  1.09327453e+01  3.59084898e-01 -1.37013727e+01]\n",
      " [ 6.89924327e+00 -4.14949551e+00 -1.01681633e-02 -1.74402522e+01]\n",
      " [ 9.16624816e+00  7.32501224e-01  3.50249959e+00 -2.21912506e+01]\n",
      " [ 1.29098857e+01  9.53674286e+00 -1.36891429e+00 -6.25337143e+00]]'\n",
      "----- END PART 4.B [took 0:00:00.047720, 0/10 points]\n",
      "----- START PART 4.C\n",
      "----- END PART 4.C [took 0:00:00.043333, 5/5 points]\n",
      "========== END GRADING [13/28 points]\n",
      "Total max points: 28\n"
     ]
    }
   ],
   "source": [
    "%run grader.py"
   ]
  },
  {
   "cell_type": "code",
   "execution_count": 3,
   "metadata": {},
   "outputs": [
    {
     "name": "stdout",
     "output_type": "stream",
     "text": [
      "loss: 9.079791\n",
      "grad: %s [[-1.66150702e+01 -3.78543829e+00  4.12786310e+00 ... -2.30184857e+00\n",
      "  -1.57775959e+01 -3.70015149e+01]\n",
      " [-2.74734866e+01 -4.99597376e-02  3.41061299e+00 ... -3.31730379e+00\n",
      "  -2.64248765e+01 -4.14738068e+01]\n",
      " [-4.80266688e+01 -1.11715836e+00  1.52625069e+01 ... -2.92373716e+00\n",
      "  -4.54096764e+01 -5.19591585e+01]\n",
      " ...\n",
      " [-1.14312579e+01 -4.20813530e+00 -1.01508071e+00 ... -8.06662878e+00\n",
      "   1.58067562e+01 -1.14162272e+01]\n",
      " [-2.46558189e+01 -1.07500442e+01  6.59411647e+00 ...  6.62392107e+00\n",
      "  -3.21909650e+00 -1.52707438e+01]\n",
      " [-1.54693878e-02  1.11428571e-02 -4.42857143e-03 ... -3.22448980e-03\n",
      "   3.40816327e-03  7.22448980e-03]]\n"
     ]
    }
   ],
   "source": [
    "# Evaluate the naive implementation of the loss we provided for you:\n",
    "from linear_svm import svm_loss_naive\n",
    "import time\n",
    "\n",
    "# generate a random SVM coefficient matrix of small numbers\n",
    "theta = np.random.randn(3073, 10) * 0.0001 \n",
    "\n",
    "loss, grad = svm_loss_naive(theta, X_train, y_train, 0.00001)\n",
    "print('loss: %f' % (loss, ))\n",
    "print('grad: %s', grad)"
   ]
  },
  {
   "cell_type": "markdown",
   "metadata": {},
   "source": [
    "The grad returned from the function above is right now all zero. Derive and implement the gradient for the SVM cost function and implement it inline inside the function **svm_loss_naive**. You will find it helpful to interleave your new code inside the existing function.\n",
    "To check that you have correctly implemented the gradient, you can numerically estimate the gradient of the loss function and compare the numeric estimate to the gradient that you computed. We have provided code that does this for you."
   ]
  },
  {
   "cell_type": "code",
   "execution_count": 4,
   "metadata": {},
   "outputs": [
    {
     "name": "stdout",
     "output_type": "stream",
     "text": [
      "numerical: -21.072045 analytic: -21.072045, relative error: 5.375845e-12\n",
      "numerical: -3.235909 analytic: -3.235909, relative error: 1.615743e-10\n",
      "numerical: 11.277930 analytic: 11.277930, relative error: 8.410893e-14\n",
      "numerical: 13.190594 analytic: 13.190594, relative error: 6.491558e-12\n",
      "numerical: -0.874724 analytic: -0.874724, relative error: 6.593297e-10\n",
      "numerical: -9.812655 analytic: -9.812655, relative error: 4.060167e-11\n",
      "numerical: -23.996835 analytic: -23.996835, relative error: 1.381255e-11\n",
      "numerical: 3.191929 analytic: 3.191929, relative error: 3.047964e-11\n",
      "numerical: -0.414615 analytic: -0.414615, relative error: 2.425940e-10\n",
      "numerical: 15.309655 analytic: 15.309655, relative error: 2.175848e-11\n",
      "numerical: 5.502865 analytic: 5.502865, relative error: 4.208065e-11\n",
      "numerical: -23.360784 analytic: -23.360784, relative error: 1.308004e-11\n",
      "numerical: 2.752672 analytic: 2.752672, relative error: 1.536871e-10\n",
      "numerical: 9.376768 analytic: 9.376768, relative error: 2.345126e-11\n",
      "numerical: -19.436750 analytic: -19.436750, relative error: 3.210781e-11\n",
      "numerical: 20.006543 analytic: 20.006543, relative error: 2.515981e-11\n",
      "numerical: 2.313828 analytic: 2.313828, relative error: 3.012862e-11\n",
      "numerical: 29.950765 analytic: 29.950765, relative error: 7.460508e-13\n",
      "numerical: 30.891837 analytic: 30.891837, relative error: 8.108998e-12\n",
      "numerical: -0.659203 analytic: -0.659203, relative error: 1.680155e-10\n"
     ]
    }
   ],
   "source": [
    "# Once you've implemented the gradient, recompute it with the code below\n",
    "# and gradient check it with the function we provided for you\n",
    "\n",
    "# Compute the loss and its gradient at theta.\n",
    "loss, grad = svm_loss_naive(theta, X_dev, y_dev, 0.0)\n",
    "\n",
    "# Numerically compute the gradient along several randomly chosen dimensions, and\n",
    "# compare them with your analytically computed gradient. The numbers should match\n",
    "# almost exactly along all dimensions.\n",
    "from gradient_check import grad_check_sparse\n",
    "f = lambda th: svm_loss_naive(th, X_dev, y_dev, 0.0)[0]\n",
    "grad_numerical = grad_check_sparse(f, theta, grad)\n",
    "\n",
    "# do the gradient check once again with regularization turned on\n",
    "# you didn't forget the regularization gradient did you?\n",
    "loss, grad = svm_loss_naive(theta, X_dev, y_dev, 1e2)\n",
    "f = lambda w: svm_loss_naive(theta, X_dev, y_dev, 1e2)[0]\n",
    "grad_numerical = grad_check_sparse(f, theta, grad)"
   ]
  },
  {
   "cell_type": "code",
   "execution_count": 5,
   "metadata": {},
   "outputs": [
    {
     "name": "stdout",
     "output_type": "stream",
     "text": [
      "Naive loss: 9.238213e+00 computed in 0.115379s\n",
      "Vectorized loss: 9.238213e+00 computed in 0.004074s\n",
      "Difference: -0.000000\n"
     ]
    }
   ],
   "source": [
    "# Next implement the function svm_loss_vectorized; for now only compute the loss;\n",
    "# we will implement the gradient in a moment.\n",
    "tic = time.time()\n",
    "loss_naive, grad_naive = svm_loss_naive(theta, X_dev, y_dev, 0.00001)\n",
    "toc = time.time()\n",
    "print('Naive loss: %e computed in %fs' % (loss_naive, toc - tic))\n",
    "\n",
    "from linear_svm import svm_loss_vectorized\n",
    "tic = time.time()\n",
    "loss_vectorized, _ = svm_loss_vectorized(theta, X_dev, y_dev, 0.00001)\n",
    "toc = time.time()\n",
    "print('Vectorized loss: %e computed in %fs' % (loss_vectorized, toc - tic))\n",
    "\n",
    "# The losses should match but your vectorized implementation should be much faster.\n",
    "print('Difference: %f' % (loss_naive - loss_vectorized))"
   ]
  },
  {
   "cell_type": "markdown",
   "metadata": {},
   "source": [
    "## Vectorized version of the gradient computation\n",
    "Complete the implementation of svm_loss_vectorized, and compute the gradient\n",
    "of the loss function in a vectorized way.\n",
    "\n"
   ]
  },
  {
   "cell_type": "code",
   "execution_count": 6,
   "metadata": {},
   "outputs": [
    {
     "name": "stdout",
     "output_type": "stream",
     "text": [
      "Naive loss and gradient: computed in 0.112314s\n",
      "Vectorized loss and gradient: computed in 0.002008s\n",
      "Difference: 0.000000\n"
     ]
    }
   ],
   "source": [
    "# The naive implementation and the vectorized implementation should match, but\n",
    "# the vectorized version should still be much faster.\n",
    "tic = time.time()\n",
    "_, grad_naive = svm_loss_naive(theta, X_dev, y_dev, 0.00001)\n",
    "toc = time.time()\n",
    "print('Naive loss and gradient: computed in %fs' % (toc - tic))\n",
    "\n",
    "tic = time.time()\n",
    "_, grad_vectorized = svm_loss_vectorized(theta, X_dev, y_dev, 0.00001)\n",
    "toc = time.time()\n",
    "print('Vectorized loss and gradient: computed in %fs' % (toc - tic))\n",
    "\n",
    "# The loss is a single number, so it is easy to compare the values computed\n",
    "# by the two implementations. The gradient on the other hand is a matrix, so\n",
    "# we use the Frobenius norm to compare them.\n",
    "difference = np.linalg.norm(grad_naive - grad_vectorized, ord='fro')\n",
    "print('Difference: %f' % difference)"
   ]
  },
  {
   "cell_type": "code",
   "execution_count": 51,
   "metadata": {},
   "outputs": [
    {
     "name": "stdout",
     "output_type": "stream",
     "text": [
      "iteration 0 / 5000: loss 24.295743\n",
      "That took 7.341210s\n"
     ]
    }
   ],
   "source": [
    "# In the file linear_classifier.py, we have implemented SGD in the function\n",
    "# LinearClassifier.train() and you can run it with the code below.\n",
    "from linear_classifier import LinearSVM\n",
    "svm = LinearSVM()\n",
    "tic = time.time()\n",
    "loss_hist = svm.train(X_train, y_train, learning_rate=1e-6, reg=5e-3,\n",
    "                      num_iters=5000, verbose=True)\n",
    "toc = time.time()\n",
    "print('That took %fs' % (toc - tic))"
   ]
  },
  {
   "cell_type": "code",
   "execution_count": 52,
   "metadata": {},
   "outputs": [
    {
     "data": {
      "image/png": "[encoded data removed]",
      "text/plain": [
       "<Figure size 720x576 with 1 Axes>"
      ]
     },
     "metadata": {
      "needs_background": "light"
     },
     "output_type": "display_data"
    }
   ],
   "source": [
    "# A useful debugging strategy is to plot the loss as a function of\n",
    "# iteration number:\n",
    "plt.plot(loss_hist)\n",
    "plt.xlabel('Iteration number')\n",
    "plt.ylabel('Loss value')\n",
    "plt.show()"
   ]
  },
  {
   "cell_type": "markdown",
   "metadata": {},
   "source": [
    "## Prediction with an SVM\n",
    "Compute $\\theta^T  x$ for a new example $x$ and pick the class with the highest score."
   ]
  },
  {
   "cell_type": "code",
   "execution_count": 53,
   "metadata": {},
   "outputs": [
    {
     "name": "stdout",
     "output_type": "stream",
     "text": [
      "training accuracy: 0.397592\n",
      "validation accuracy: 0.373000\n"
     ]
    }
   ],
   "source": [
    "# Write the LinearSVM.predict function and evaluate the performance on both the\n",
    "# training and validation set\n",
    "y_train_pred = svm.predict(X_train)\n",
    "print('training accuracy: %f' % (np.mean(y_train == y_train_pred), ))\n",
    "y_val_pred = svm.predict(X_val)\n",
    "print('validation accuracy: %f' % (np.mean(y_val == y_val_pred), ))"
   ]
  },
  {
   "cell_type": "code",
   "execution_count": 24,
   "metadata": {},
   "outputs": [
    {
     "name": "stdout",
     "output_type": "stream",
     "text": [
      "best validation accuracy achieved during cross-validation: -1.000000\n"
     ]
    }
   ],
   "source": [
    "# Use the validation set to tune hyperparameters (regularization strength and\n",
    "# learning rate). You should experiment with different ranges for the learning\n",
    "# rates and regularization strengths; if you are careful you should be able to\n",
    "# get a classification accuracy of about 0.38 or higher on the validation set.\n",
    "\n",
    "learning_rates = [1e-8, 5e-8, 1e-7, 5e-7, 1e-6]\n",
    "regularization_strengths = [1e4, 5e4, 1e5, 5e5]\n",
    "\n",
    "# results is dictionary mapping tuples of the form\n",
    "# (learning_rate, regularization_strength) to tuples of the form\n",
    "# (training_accuracy, validation_accuracy). The accuracy is simply the fraction\n",
    "# of data points that are correctly classified.\n",
    "results = {}\n",
    "best_val = -1   # The highest validation accuracy that we have seen so far.\n",
    "best_svm = None # The LinearSVM object that achieved the highest validation rate.\n",
    "\n",
    "################################################################################\n",
    "# TODO:                                                                        #\n",
    "# Write code that chooses the best hyperparameters by tuning on the validation #\n",
    "# set. For each combination of hyperparameters, train a linear SVM on the      #\n",
    "# training set, compute its accuracy on the training and validation sets, and  #\n",
    "# store these numbers in the results dictionary. In addition, store the best   #\n",
    "# validation accuracy in best_val and the LinearSVM object that achieves this  #\n",
    "# accuracy in best_svm.                                                        #\n",
    "#                                                                              #\n",
    "# Hint: You should use a small value for num_iters as you develop your         #\n",
    "# validation code so that the SVMs don't take much time to train; once you are #\n",
    "# confident that your validation code works, you should rerun the validation   #\n",
    "# code with a larger value for num_iters.                                      #\n",
    "################################################################################\n",
    "\n",
    "\n",
    "################################################################################\n",
    "#                              END OF YOUR CODE                                #\n",
    "################################################################################\n",
    "    \n",
    "# Print out results.\n",
    "for lr, reg in sorted(results):\n",
    "    train_accuracy, val_accuracy = results[(lr, reg)]\n",
    "    print('lr %e reg %e train accuracy: %f val accuracy: %f' % (\n",
    "                lr, reg, train_accuracy, val_accuracy))\n",
    "    \n",
    "print('best validation accuracy achieved during cross-validation: %f' % best_val)"
   ]
  },
  {
   "cell_type": "code",
   "execution_count": 25,
   "metadata": {},
   "outputs": [
    {
     "data": {
      "image/png": "[encoded data removed]",
      "text/plain": [
       "<Figure size 720x576 with 4 Axes>"
      ]
     },
     "metadata": {
      "needs_background": "light"
     },
     "output_type": "display_data"
    }
   ],
   "source": [
    "# Visualize the cross-validation results\n",
    "import math\n",
    "x_scatter = [math.log10(x[0]) for x in results]\n",
    "y_scatter = [math.log10(x[1]) for x in results]\n",
    "\n",
    "# plot training accuracy\n",
    "marker_size = 100\n",
    "colors = [results[x][0] for x in results]\n",
    "plt.subplot(2, 1, 1)\n",
    "plt.scatter(x_scatter, y_scatter, marker_size, c=colors)\n",
    "plt.colorbar()\n",
    "plt.xlabel('log learning rate')\n",
    "plt.ylabel('log regularization strength')\n",
    "plt.title('CIFAR-10 training accuracy')\n",
    "\n",
    "# plot validation accuracy\n",
    "colors = [results[x][1] for x in results] # default size of markers is 20\n",
    "plt.subplot(2, 1, 2)\n",
    "plt.scatter(x_scatter, y_scatter, marker_size, c=colors)\n",
    "plt.colorbar()\n",
    "plt.xlabel('log learning rate')\n",
    "plt.ylabel('log regularization strength')\n",
    "plt.title('CIFAR-10 validation accuracy')\n",
    "plt.tight_layout()\n",
    "plt.show()"
   ]
  },
  {
   "cell_type": "code",
   "execution_count": 26,
   "metadata": {},
   "outputs": [
    {
     "ename": "AttributeError",
     "evalue": "'NoneType' object has no attribute 'predict'",
     "output_type": "error",
     "traceback": [
      "\u001b[0;31m---------------------------------------------------------------------------\u001b[0m",
      "\u001b[0;31mAttributeError\u001b[0m                            Traceback (most recent call last)",
      "\u001b[0;32m<ipython-input-26-a17b4c144d33>\u001b[0m in \u001b[0;36m<module>\u001b[0;34m\u001b[0m\n\u001b[1;32m      1\u001b[0m \u001b[0;31m# Evaluate the best svm on test set\u001b[0m\u001b[0;34m\u001b[0m\u001b[0;34m\u001b[0m\u001b[0;34m\u001b[0m\u001b[0m\n\u001b[0;32m----> 2\u001b[0;31m \u001b[0my_test_pred\u001b[0m \u001b[0;34m=\u001b[0m \u001b[0mbest_svm\u001b[0m\u001b[0;34m.\u001b[0m\u001b[0mpredict\u001b[0m\u001b[0;34m(\u001b[0m\u001b[0mX_test\u001b[0m\u001b[0;34m)\u001b[0m\u001b[0;34m\u001b[0m\u001b[0;34m\u001b[0m\u001b[0m\n\u001b[0m\u001b[1;32m      3\u001b[0m \u001b[0mtest_accuracy\u001b[0m \u001b[0;34m=\u001b[0m \u001b[0mnp\u001b[0m\u001b[0;34m.\u001b[0m\u001b[0mmean\u001b[0m\u001b[0;34m(\u001b[0m\u001b[0my_test\u001b[0m \u001b[0;34m==\u001b[0m \u001b[0my_test_pred\u001b[0m\u001b[0;34m)\u001b[0m\u001b[0;34m\u001b[0m\u001b[0;34m\u001b[0m\u001b[0m\n\u001b[1;32m      4\u001b[0m \u001b[0mprint\u001b[0m\u001b[0;34m(\u001b[0m\u001b[0;34m'linear SVM on raw pixels final test set accuracy: %f'\u001b[0m \u001b[0;34m%\u001b[0m \u001b[0mtest_accuracy\u001b[0m\u001b[0;34m)\u001b[0m\u001b[0;34m\u001b[0m\u001b[0;34m\u001b[0m\u001b[0m\n",
      "\u001b[0;31mAttributeError\u001b[0m: 'NoneType' object has no attribute 'predict'"
     ]
    }
   ],
   "source": [
    "# Evaluate the best svm on test set\n",
    "y_test_pred = best_svm.predict(X_test)\n",
    "test_accuracy = np.mean(y_test == y_test_pred)\n",
    "print('linear SVM on raw pixels final test set accuracy: %f' % test_accuracy)"
   ]
  },
  {
   "cell_type": "code",
   "execution_count": 27,
   "metadata": {},
   "outputs": [
    {
     "ename": "AttributeError",
     "evalue": "'NoneType' object has no attribute 'theta'",
     "output_type": "error",
     "traceback": [
      "\u001b[0;31m---------------------------------------------------------------------------\u001b[0m",
      "\u001b[0;31mAttributeError\u001b[0m                            Traceback (most recent call last)",
      "\u001b[0;32m<ipython-input-27-eac734000bdc>\u001b[0m in \u001b[0;36m<module>\u001b[0;34m\u001b[0m\n\u001b[1;32m      3\u001b[0m \u001b[0;31m# or may not be nice to look at.\u001b[0m\u001b[0;34m\u001b[0m\u001b[0;34m\u001b[0m\u001b[0;34m\u001b[0m\u001b[0m\n\u001b[1;32m      4\u001b[0m \u001b[0;34m\u001b[0m\u001b[0m\n\u001b[0;32m----> 5\u001b[0;31m \u001b[0mtheta\u001b[0m \u001b[0;34m=\u001b[0m \u001b[0mbest_svm\u001b[0m\u001b[0;34m.\u001b[0m\u001b[0mtheta\u001b[0m\u001b[0;34m[\u001b[0m\u001b[0;34m:\u001b[0m\u001b[0;34m-\u001b[0m\u001b[0;36m1\u001b[0m\u001b[0;34m,\u001b[0m\u001b[0;34m:\u001b[0m\u001b[0;34m]\u001b[0m \u001b[0;31m# strip out the bias\u001b[0m\u001b[0;34m\u001b[0m\u001b[0;34m\u001b[0m\u001b[0m\n\u001b[0m\u001b[1;32m      6\u001b[0m \u001b[0mtheta\u001b[0m \u001b[0;34m=\u001b[0m \u001b[0mtheta\u001b[0m\u001b[0;34m.\u001b[0m\u001b[0mreshape\u001b[0m\u001b[0;34m(\u001b[0m\u001b[0;36m32\u001b[0m\u001b[0;34m,\u001b[0m \u001b[0;36m32\u001b[0m\u001b[0;34m,\u001b[0m \u001b[0;36m3\u001b[0m\u001b[0;34m,\u001b[0m \u001b[0;36m10\u001b[0m\u001b[0;34m)\u001b[0m\u001b[0;34m\u001b[0m\u001b[0;34m\u001b[0m\u001b[0m\n\u001b[1;32m      7\u001b[0m \u001b[0mtheta_min\u001b[0m\u001b[0;34m,\u001b[0m \u001b[0mtheta_max\u001b[0m \u001b[0;34m=\u001b[0m \u001b[0mnp\u001b[0m\u001b[0;34m.\u001b[0m\u001b[0mmin\u001b[0m\u001b[0;34m(\u001b[0m\u001b[0mtheta\u001b[0m\u001b[0;34m)\u001b[0m\u001b[0;34m,\u001b[0m \u001b[0mnp\u001b[0m\u001b[0;34m.\u001b[0m\u001b[0mmax\u001b[0m\u001b[0;34m(\u001b[0m\u001b[0mtheta\u001b[0m\u001b[0;34m)\u001b[0m\u001b[0;34m\u001b[0m\u001b[0;34m\u001b[0m\u001b[0m\n",
      "\u001b[0;31mAttributeError\u001b[0m: 'NoneType' object has no attribute 'theta'"
     ]
    }
   ],
   "source": [
    "# Visualize the learned weights for each class.\n",
    "# Depending on your choice of learning rate and regularization strength, these may\n",
    "# or may not be nice to look at.\n",
    "\n",
    "theta = best_svm.theta[:-1,:] # strip out the bias\n",
    "theta = theta.reshape(32, 32, 3, 10)\n",
    "theta_min, theta_max = np.min(theta), np.max(theta)\n",
    "classes = ['plane', 'car', 'bird', 'cat', 'deer', 'dog', 'frog', 'horse', 'ship', 'truck']\n",
    "for i in range(10):\n",
    "  plt.subplot(2, 5, i + 1)\n",
    "    \n",
    "  # Rescale the weights to be between 0 and 255\n",
    "  thetaimg = 255.0 * (theta[:, :, :, i].squeeze() - theta_min) / (theta_max - theta_min)\n",
    "  plt.imshow(thetaimg.astype('uint8'))\n",
    "  plt.axis('off')\n",
    "  plt.title(classes[i])"
   ]
  },
  {
   "cell_type": "code",
   "execution_count": null,
   "metadata": {},
   "outputs": [],
   "source": []
  }
 ],
 "metadata": {
  "anaconda-cloud": {},
  "kernelspec": {
   "display_name": "Python 3",
   "language": "python",
   "name": "python3"
  },
  "language_info": {
   "codemirror_mode": {
    "name": "ipython",
    "version": 3
   },
   "file_extension": ".py",
   "mimetype": "text/x-python",
   "name": "python",
   "nbconvert_exporter": "python",
   "pygments_lexer": "ipython3",
   "version": "3.8.5"
  }
 },
 "nbformat": 4,
 "nbformat_minor": 1
}
